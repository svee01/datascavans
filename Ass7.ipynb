{
 "cells": [
  {
   "cell_type": "code",
   "execution_count": 1,
   "id": "f18d339e",
   "metadata": {},
   "outputs": [],
   "source": [
    "import pandas as pd"
   ]
  },
  {
   "cell_type": "code",
   "execution_count": 2,
   "id": "3f2cb157",
   "metadata": {},
   "outputs": [],
   "source": [
    "import numpy as np"
   ]
  },
  {
   "cell_type": "code",
   "execution_count": 17,
   "id": "99551e6c",
   "metadata": {},
   "outputs": [],
   "source": [
    "bb = pd.read_csv('breaking-bad.csv', sep=',')"
   ]
  },
  {
   "cell_type": "code",
   "execution_count": 18,
   "id": "80899a4d",
   "metadata": {},
   "outputs": [
    {
     "data": {
      "text/html": [
       "<div>\n",
       "<style scoped>\n",
       "    .dataframe tbody tr th:only-of-type {\n",
       "        vertical-align: middle;\n",
       "    }\n",
       "\n",
       "    .dataframe tbody tr th {\n",
       "        vertical-align: top;\n",
       "    }\n",
       "\n",
       "    .dataframe thead th {\n",
       "        text-align: right;\n",
       "    }\n",
       "</style>\n",
       "<table border=\"1\" class=\"dataframe\">\n",
       "  <thead>\n",
       "    <tr style=\"text-align: right;\">\n",
       "      <th></th>\n",
       "      <th>season</th>\n",
       "      <th>episode</th>\n",
       "      <th>title</th>\n",
       "      <th>year</th>\n",
       "      <th>votes</th>\n",
       "      <th>rating</th>\n",
       "      <th>us-viewers</th>\n",
       "    </tr>\n",
       "  </thead>\n",
       "  <tbody>\n",
       "    <tr>\n",
       "      <th>0</th>\n",
       "      <td>1</td>\n",
       "      <td>1</td>\n",
       "      <td>Pilot</td>\n",
       "      <td>2008</td>\n",
       "      <td>23970</td>\n",
       "      <td>9.0</td>\n",
       "      <td>1.41</td>\n",
       "    </tr>\n",
       "    <tr>\n",
       "      <th>1</th>\n",
       "      <td>1</td>\n",
       "      <td>2</td>\n",
       "      <td>Cat's in the Bag...</td>\n",
       "      <td>2008</td>\n",
       "      <td>17267</td>\n",
       "      <td>8.7</td>\n",
       "      <td>1.49</td>\n",
       "    </tr>\n",
       "    <tr>\n",
       "      <th>2</th>\n",
       "      <td>1</td>\n",
       "      <td>3</td>\n",
       "      <td>...And the Bag's in the River</td>\n",
       "      <td>2008</td>\n",
       "      <td>16719</td>\n",
       "      <td>8.8</td>\n",
       "      <td>1.08</td>\n",
       "    </tr>\n",
       "    <tr>\n",
       "      <th>3</th>\n",
       "      <td>1</td>\n",
       "      <td>4</td>\n",
       "      <td>Cancer Man</td>\n",
       "      <td>2008</td>\n",
       "      <td>16211</td>\n",
       "      <td>8.3</td>\n",
       "      <td>1.09</td>\n",
       "    </tr>\n",
       "    <tr>\n",
       "      <th>4</th>\n",
       "      <td>1</td>\n",
       "      <td>5</td>\n",
       "      <td>Gray Matter</td>\n",
       "      <td>2008</td>\n",
       "      <td>15896</td>\n",
       "      <td>8.4</td>\n",
       "      <td>0.97</td>\n",
       "    </tr>\n",
       "  </tbody>\n",
       "</table>\n",
       "</div>"
      ],
      "text/plain": [
       "   season  episode                          title  year  votes  rating  \\\n",
       "0       1        1                          Pilot  2008  23970     9.0   \n",
       "1       1        2            Cat's in the Bag...  2008  17267     8.7   \n",
       "2       1        3  ...And the Bag's in the River  2008  16719     8.8   \n",
       "3       1        4                     Cancer Man  2008  16211     8.3   \n",
       "4       1        5                    Gray Matter  2008  15896     8.4   \n",
       "\n",
       "   us-viewers  \n",
       "0        1.41  \n",
       "1        1.49  \n",
       "2        1.08  \n",
       "3        1.09  \n",
       "4        0.97  "
      ]
     },
     "execution_count": 18,
     "metadata": {},
     "output_type": "execute_result"
    }
   ],
   "source": [
    "bb.head()"
   ]
  },
  {
   "cell_type": "code",
   "execution_count": 19,
   "id": "2f2f24c0",
   "metadata": {},
   "outputs": [
    {
     "data": {
      "text/plain": [
       "<AxesSubplot:ylabel='Frequency'>"
      ]
     },
     "execution_count": 19,
     "metadata": {},
     "output_type": "execute_result"
    },
    {
     "data": {
      "image/png": "[encoded data removed]",
      "text/plain": [
       "<Figure size 640x480 with 1 Axes>"
      ]
     },
     "metadata": {},
     "output_type": "display_data"
    }
   ],
   "source": [
    "bb['year'].plot(kind='hist', bins=50)"
   ]
  },
  {
   "cell_type": "code",
   "execution_count": 21,
   "id": "6808d4f1",
   "metadata": {},
   "outputs": [
    {
     "data": {
      "text/plain": [
       "2010.4193548387098"
      ]
     },
     "execution_count": 21,
     "metadata": {},
     "output_type": "execute_result"
    }
   ],
   "source": [
    "bb['year'].mean()"
   ]
  },
  {
   "cell_type": "code",
   "execution_count": 22,
   "id": "6c40dcc8",
   "metadata": {},
   "outputs": [
    {
     "data": {
      "text/plain": [
       "1.5528755673791412"
      ]
     },
     "execution_count": 22,
     "metadata": {},
     "output_type": "execute_result"
    }
   ],
   "source": [
    "bb['year'].std()"
   ]
  },
  {
   "cell_type": "code",
   "execution_count": 23,
   "id": "2faf5a34",
   "metadata": {},
   "outputs": [],
   "source": [
    "avg = bb['year'].mean()\n",
    "std = bb['year'].std()\n",
    "sample = 5000"
   ]
  },
  {
   "cell_type": "code",
   "execution_count": 24,
   "id": "a7bfd0f2",
   "metadata": {},
   "outputs": [],
   "source": [
    "random = pd.Series(np.random.normal(avg, std, sample))"
   ]
  },
  {
   "cell_type": "code",
   "execution_count": 25,
   "id": "2a3f1ea6",
   "metadata": {},
   "outputs": [
    {
     "data": {
      "text/plain": [
       "0       2010.574562\n",
       "1       2010.473135\n",
       "2       2011.916587\n",
       "3       2012.460728\n",
       "4       2010.750415\n",
       "           ...     \n",
       "4995    2012.277380\n",
       "4996    2009.700450\n",
       "4997    2014.349842\n",
       "4998    2013.908143\n",
       "4999    2012.447446\n",
       "Length: 5000, dtype: float64"
      ]
     },
     "execution_count": 25,
     "metadata": {},
     "output_type": "execute_result"
    }
   ],
   "source": [
    "random"
   ]
  },
  {
   "cell_type": "code",
   "execution_count": 28,
   "id": "500240ce",
   "metadata": {},
   "outputs": [
    {
     "data": {
      "text/plain": [
       "<AxesSubplot:ylabel='Frequency'>"
      ]
     },
     "execution_count": 28,
     "metadata": {},
     "output_type": "execute_result"
    },
    {
     "data": {
      "image/png": "[encoded data removed]",
      "text/plain": [
       "<Figure size 640x480 with 1 Axes>"
      ]
     },
     "metadata": {},
     "output_type": "display_data"
    }
   ],
   "source": [
    "random[random > 2000].plot(kind='hist', bins = 7)"
   ]
  },
  {
   "cell_type": "code",
   "execution_count": null,
   "id": "b70c3792",
   "metadata": {},
   "outputs": [],
   "source": []
  }
 ],
 "metadata": {
  "kernelspec": {
   "display_name": "Python 3 (ipykernel)",
   "language": "python",
   "name": "python3"
  },
  "language_info": {
   "codemirror_mode": {
    "name": "ipython",
    "version": 3
   },
   "file_extension": ".py",
   "mimetype": "text/x-python",
   "name": "python",
   "nbconvert_exporter": "python",
   "pygments_lexer": "ipython3",
   "version": "3.9.13"
  }
 },
 "nbformat": 4,
 "nbformat_minor": 5
}
