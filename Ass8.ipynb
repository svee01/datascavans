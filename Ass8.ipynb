{
 "cells": [
  {
   "cell_type": "code",
   "execution_count": 1,
   "id": "90eddc37",
   "metadata": {},
   "outputs": [],
   "source": [
    "import pandas as pd"
   ]
  },
  {
   "cell_type": "code",
   "execution_count": 2,
   "id": "f7dc908d",
   "metadata": {},
   "outputs": [],
   "source": [
    "import numpy as np"
   ]
  },
  {
   "cell_type": "code",
   "execution_count": 3,
   "id": "a1cd0723",
   "metadata": {},
   "outputs": [],
   "source": [
    "import scipy.stats as st"
   ]
  },
  {
   "cell_type": "code",
   "execution_count": 15,
   "id": "6bbd84c1",
   "metadata": {},
   "outputs": [],
   "source": [
    "bb = pd.read_csv('breaking-bad.csv', sep=',')"
   ]
  },
  {
   "cell_type": "code",
   "execution_count": 16,
   "id": "54e02911",
   "metadata": {},
   "outputs": [],
   "source": [
    "bb = bb.dropna()"
   ]
  },
  {
   "cell_type": "code",
   "execution_count": 17,
   "id": "03bc57e8",
   "metadata": {},
   "outputs": [
    {
     "data": {
      "text/html": [
       "<div>\n",
       "<style scoped>\n",
       "    .dataframe tbody tr th:only-of-type {\n",
       "        vertical-align: middle;\n",
       "    }\n",
       "\n",
       "    .dataframe tbody tr th {\n",
       "        vertical-align: top;\n",
       "    }\n",
       "\n",
       "    .dataframe thead th {\n",
       "        text-align: right;\n",
       "    }\n",
       "</style>\n",
       "<table border=\"1\" class=\"dataframe\">\n",
       "  <thead>\n",
       "    <tr style=\"text-align: right;\">\n",
       "      <th></th>\n",
       "      <th>season</th>\n",
       "      <th>episode</th>\n",
       "      <th>title</th>\n",
       "      <th>year</th>\n",
       "      <th>votes</th>\n",
       "      <th>rating</th>\n",
       "      <th>us-viewers</th>\n",
       "    </tr>\n",
       "  </thead>\n",
       "  <tbody>\n",
       "    <tr>\n",
       "      <th>0</th>\n",
       "      <td>1</td>\n",
       "      <td>1</td>\n",
       "      <td>Pilot</td>\n",
       "      <td>2008</td>\n",
       "      <td>23970</td>\n",
       "      <td>9.0</td>\n",
       "      <td>1.41</td>\n",
       "    </tr>\n",
       "    <tr>\n",
       "      <th>1</th>\n",
       "      <td>1</td>\n",
       "      <td>2</td>\n",
       "      <td>Cat's in the Bag...</td>\n",
       "      <td>2008</td>\n",
       "      <td>17267</td>\n",
       "      <td>8.7</td>\n",
       "      <td>1.49</td>\n",
       "    </tr>\n",
       "    <tr>\n",
       "      <th>2</th>\n",
       "      <td>1</td>\n",
       "      <td>3</td>\n",
       "      <td>...And the Bag's in the River</td>\n",
       "      <td>2008</td>\n",
       "      <td>16719</td>\n",
       "      <td>8.8</td>\n",
       "      <td>1.08</td>\n",
       "    </tr>\n",
       "    <tr>\n",
       "      <th>3</th>\n",
       "      <td>1</td>\n",
       "      <td>4</td>\n",
       "      <td>Cancer Man</td>\n",
       "      <td>2008</td>\n",
       "      <td>16211</td>\n",
       "      <td>8.3</td>\n",
       "      <td>1.09</td>\n",
       "    </tr>\n",
       "    <tr>\n",
       "      <th>4</th>\n",
       "      <td>1</td>\n",
       "      <td>5</td>\n",
       "      <td>Gray Matter</td>\n",
       "      <td>2008</td>\n",
       "      <td>15896</td>\n",
       "      <td>8.4</td>\n",
       "      <td>0.97</td>\n",
       "    </tr>\n",
       "  </tbody>\n",
       "</table>\n",
       "</div>"
      ],
      "text/plain": [
       "   season  episode                          title  year  votes  rating  \\\n",
       "0       1        1                          Pilot  2008  23970     9.0   \n",
       "1       1        2            Cat's in the Bag...  2008  17267     8.7   \n",
       "2       1        3  ...And the Bag's in the River  2008  16719     8.8   \n",
       "3       1        4                     Cancer Man  2008  16211     8.3   \n",
       "4       1        5                    Gray Matter  2008  15896     8.4   \n",
       "\n",
       "   us-viewers  \n",
       "0        1.41  \n",
       "1        1.49  \n",
       "2        1.08  \n",
       "3        1.09  \n",
       "4        0.97  "
      ]
     },
     "execution_count": 17,
     "metadata": {},
     "output_type": "execute_result"
    }
   ],
   "source": [
    "bb.head()"
   ]
  },
  {
   "cell_type": "code",
   "execution_count": 7,
   "id": "0944ad9c",
   "metadata": {},
   "outputs": [],
   "source": [
    "confidence = 0.90\n",
    "confidence2 = 0.95\n",
    "confidence3= 0.99\n",
    "confidence4 = 0.9999"
   ]
  },
  {
   "cell_type": "code",
   "execution_count": 18,
   "id": "3c4a38e3",
   "metadata": {},
   "outputs": [
    {
     "data": {
      "text/plain": [
       "(2010.1984504425204, 2010.8892688557253)"
      ]
     },
     "execution_count": 18,
     "metadata": {},
     "output_type": "execute_result"
    }
   ],
   "source": [
    "st.t.interval(confidence, len(bb)-1, loc=bb['year'].mean(), scale=st.sem(bb['year']))"
   ]
  },
  {
   "cell_type": "code",
   "execution_count": 19,
   "id": "594db359",
   "metadata": {},
   "outputs": [
    {
     "data": {
      "text/plain": [
       "(2010.130150495146, 2010.9575688030998)"
      ]
     },
     "execution_count": 19,
     "metadata": {},
     "output_type": "execute_result"
    }
   ],
   "source": [
    "st.t.interval(confidence2, len(bb)-1, loc=bb['year'].mean(), scale=st.sem(bb['year']))"
   ]
  },
  {
   "cell_type": "code",
   "execution_count": 20,
   "id": "8f7dfced",
   "metadata": {},
   "outputs": [
    {
     "data": {
      "text/plain": [
       "(2009.993171667181, 2011.0945476310646)"
      ]
     },
     "execution_count": 20,
     "metadata": {},
     "output_type": "execute_result"
    }
   ],
   "source": [
    "st.t.interval(confidence3, len(bb)-1, loc=bb['year'].mean(), scale=st.sem(bb['year']))"
   ]
  },
  {
   "cell_type": "code",
   "execution_count": 21,
   "id": "0d32faa4",
   "metadata": {},
   "outputs": [
    {
     "data": {
      "text/plain": [
       "(2009.6785956316858, 2011.40912366656)"
      ]
     },
     "execution_count": 21,
     "metadata": {},
     "output_type": "execute_result"
    }
   ],
   "source": [
    "st.t.interval(confidence4, len(bb)-1, loc=bb['year'].mean(), scale=st.sem(bb['year']))"
   ]
  },
  {
   "cell_type": "code",
   "execution_count": 22,
   "id": "03bad34a",
   "metadata": {},
   "outputs": [
    {
     "data": {
      "text/plain": [
       "(2010.0320059024502, 2011.0557133957955)"
      ]
     },
     "execution_count": 22,
     "metadata": {},
     "output_type": "execute_result"
    }
   ],
   "source": [
    "st.t.interval(confidence2, len(bb)/10, loc=bb['year'].mean(), scale=st.sem(bb['year']))"
   ]
  },
  {
   "cell_type": "code",
   "execution_count": 23,
   "id": "d1d84986",
   "metadata": {},
   "outputs": [
    {
     "data": {
      "text/plain": [
       "(16613.88367219911, 24084.221590958783)"
      ]
     },
     "execution_count": 23,
     "metadata": {},
     "output_type": "execute_result"
    }
   ],
   "source": [
    "st.t.interval(confidence, len(bb)-1, loc=bb['votes'].mean(), scale=st.sem(bb['votes']))"
   ]
  },
  {
   "cell_type": "code",
   "execution_count": 24,
   "id": "6b2fe395",
   "metadata": {},
   "outputs": [
    {
     "data": {
      "text/plain": [
       "(15875.305086325176, 24822.800176832716)"
      ]
     },
     "execution_count": 24,
     "metadata": {},
     "output_type": "execute_result"
    }
   ],
   "source": [
    "st.t.interval(confidence2, len(bb)-1, loc=bb['votes'].mean(), scale=st.sem(bb['votes']))"
   ]
  },
  {
   "cell_type": "code",
   "execution_count": 25,
   "id": "06f6487e",
   "metadata": {},
   "outputs": [
    {
     "data": {
      "text/plain": [
       "(14394.050225346731, 26304.055037811162)"
      ]
     },
     "execution_count": 25,
     "metadata": {},
     "output_type": "execute_result"
    }
   ],
   "source": [
    "st.t.interval(confidence3, len(bb)-1, loc=bb['votes'].mean(), scale=st.sem(bb['votes']))"
   ]
  },
  {
   "cell_type": "code",
   "execution_count": 26,
   "id": "1f74bcd7",
   "metadata": {},
   "outputs": [
    {
     "data": {
      "text/plain": [
       "(10992.303483549373, 29705.80177960852)"
      ]
     },
     "execution_count": 26,
     "metadata": {},
     "output_type": "execute_result"
    }
   ],
   "source": [
    "st.t.interval(confidence4, len(bb)-1, loc=bb['votes'].mean(), scale=st.sem(bb['votes']))"
   ]
  },
  {
   "cell_type": "code",
   "execution_count": 27,
   "id": "82d223b1",
   "metadata": {},
   "outputs": [
    {
     "data": {
      "text/plain": [
       "(14813.993954021305, 25884.111309136588)"
      ]
     },
     "execution_count": 27,
     "metadata": {},
     "output_type": "execute_result"
    }
   ],
   "source": [
    "st.t.interval(confidence2, len(bb)/10, loc=bb['votes'].mean(), scale=st.sem(bb['votes']))"
   ]
  },
  {
   "cell_type": "code",
   "execution_count": null,
   "id": "0ead0660",
   "metadata": {},
   "outputs": [],
   "source": []
  }
 ],
 "metadata": {
  "kernelspec": {
   "display_name": "Python 3 (ipykernel)",
   "language": "python",
   "name": "python3"
  },
  "language_info": {
   "codemirror_mode": {
    "name": "ipython",
    "version": 3
   },
   "file_extension": ".py",
   "mimetype": "text/x-python",
   "name": "python",
   "nbconvert_exporter": "python",
   "pygments_lexer": "ipython3",
   "version": "3.9.13"
  }
 },
 "nbformat": 4,
 "nbformat_minor": 5
}
