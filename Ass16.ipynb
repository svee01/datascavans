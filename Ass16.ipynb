{
 "cells": [
  {
   "cell_type": "code",
   "execution_count": 1,
   "id": "d3f77683",
   "metadata": {},
   "outputs": [],
   "source": [
    "import pandas as pd"
   ]
  },
  {
   "cell_type": "code",
   "execution_count": 2,
   "id": "3c9c8ab1",
   "metadata": {},
   "outputs": [],
   "source": [
    "import seaborn as sns"
   ]
  },
  {
   "cell_type": "code",
   "execution_count": 3,
   "id": "8676925f",
   "metadata": {},
   "outputs": [],
   "source": [
    "from sklearn.tree import DecisionTreeClassifier"
   ]
  },
  {
   "cell_type": "code",
   "execution_count": 4,
   "id": "827db973",
   "metadata": {},
   "outputs": [],
   "source": [
    "from sklearn.model_selection import train_test_split"
   ]
  },
  {
   "cell_type": "code",
   "execution_count": 5,
   "id": "5c8be6df",
   "metadata": {},
   "outputs": [],
   "source": [
    "bb = pd.read_csv('breaking-bad.csv', sep=',')"
   ]
  },
  {
   "cell_type": "code",
   "execution_count": 6,
   "id": "2c8fe6cf",
   "metadata": {},
   "outputs": [
    {
     "data": {
      "text/html": [
       "<div>\n",
       "<style scoped>\n",
       "    .dataframe tbody tr th:only-of-type {\n",
       "        vertical-align: middle;\n",
       "    }\n",
       "\n",
       "    .dataframe tbody tr th {\n",
       "        vertical-align: top;\n",
       "    }\n",
       "\n",
       "    .dataframe thead th {\n",
       "        text-align: right;\n",
       "    }\n",
       "</style>\n",
       "<table border=\"1\" class=\"dataframe\">\n",
       "  <thead>\n",
       "    <tr style=\"text-align: right;\">\n",
       "      <th></th>\n",
       "      <th>season</th>\n",
       "      <th>episode</th>\n",
       "      <th>title</th>\n",
       "      <th>year</th>\n",
       "      <th>votes</th>\n",
       "      <th>rating</th>\n",
       "      <th>us-viewers</th>\n",
       "    </tr>\n",
       "  </thead>\n",
       "  <tbody>\n",
       "    <tr>\n",
       "      <th>0</th>\n",
       "      <td>1</td>\n",
       "      <td>1</td>\n",
       "      <td>Pilot</td>\n",
       "      <td>2008</td>\n",
       "      <td>23970</td>\n",
       "      <td>9.0</td>\n",
       "      <td>1.41</td>\n",
       "    </tr>\n",
       "    <tr>\n",
       "      <th>1</th>\n",
       "      <td>1</td>\n",
       "      <td>2</td>\n",
       "      <td>Cat's in the Bag...</td>\n",
       "      <td>2008</td>\n",
       "      <td>17267</td>\n",
       "      <td>8.7</td>\n",
       "      <td>1.49</td>\n",
       "    </tr>\n",
       "    <tr>\n",
       "      <th>2</th>\n",
       "      <td>1</td>\n",
       "      <td>3</td>\n",
       "      <td>...And the Bag's in the River</td>\n",
       "      <td>2008</td>\n",
       "      <td>16719</td>\n",
       "      <td>8.8</td>\n",
       "      <td>1.08</td>\n",
       "    </tr>\n",
       "    <tr>\n",
       "      <th>3</th>\n",
       "      <td>1</td>\n",
       "      <td>4</td>\n",
       "      <td>Cancer Man</td>\n",
       "      <td>2008</td>\n",
       "      <td>16211</td>\n",
       "      <td>8.3</td>\n",
       "      <td>1.09</td>\n",
       "    </tr>\n",
       "    <tr>\n",
       "      <th>4</th>\n",
       "      <td>1</td>\n",
       "      <td>5</td>\n",
       "      <td>Gray Matter</td>\n",
       "      <td>2008</td>\n",
       "      <td>15896</td>\n",
       "      <td>8.4</td>\n",
       "      <td>0.97</td>\n",
       "    </tr>\n",
       "  </tbody>\n",
       "</table>\n",
       "</div>"
      ],
      "text/plain": [
       "   season  episode                          title  year  votes  rating  \\\n",
       "0       1        1                          Pilot  2008  23970     9.0   \n",
       "1       1        2            Cat's in the Bag...  2008  17267     8.7   \n",
       "2       1        3  ...And the Bag's in the River  2008  16719     8.8   \n",
       "3       1        4                     Cancer Man  2008  16211     8.3   \n",
       "4       1        5                    Gray Matter  2008  15896     8.4   \n",
       "\n",
       "   us-viewers  \n",
       "0        1.41  \n",
       "1        1.49  \n",
       "2        1.08  \n",
       "3        1.09  \n",
       "4        0.97  "
      ]
     },
     "execution_count": 6,
     "metadata": {},
     "output_type": "execute_result"
    }
   ],
   "source": [
    "bb.head()"
   ]
  },
  {
   "cell_type": "code",
   "execution_count": 11,
   "id": "0741e72b",
   "metadata": {},
   "outputs": [],
   "source": [
    "bb_train = bb.dropna()"
   ]
  },
  {
   "cell_type": "code",
   "execution_count": 12,
   "id": "5a589900",
   "metadata": {},
   "outputs": [],
   "source": [
    "features = ['rating']"
   ]
  },
  {
   "cell_type": "code",
   "execution_count": 13,
   "id": "edb21431",
   "metadata": {},
   "outputs": [],
   "source": [
    "dt_classification = DecisionTreeClassifier(max_depth = 2)"
   ]
  },
  {
   "cell_type": "code",
   "execution_count": 19,
   "id": "99f501d6",
   "metadata": {},
   "outputs": [
    {
     "data": {
      "text/plain": [
       "DecisionTreeClassifier(max_depth=2)"
      ]
     },
     "execution_count": 19,
     "metadata": {},
     "output_type": "execute_result"
    }
   ],
   "source": [
    "dt_classification.fit(bb_train[features], bb_train['title'])"
   ]
  },
  {
   "cell_type": "code",
   "execution_count": 20,
   "id": "5e7a70ab",
   "metadata": {},
   "outputs": [],
   "source": [
    "from sklearn import tree\n",
    "import graphviz\n",
    "\n",
    "def plot_tree_classification(model, features, class_names):\n",
    "    dot_data = tree.export_graphviz(model, out_file=None, \n",
    "                          feature_names=features,  \n",
    "                          class_names=class_names,  \n",
    "                          filled=True, rounded=True,  \n",
    "                          special_characters=True)  \n",
    "    graph = graphviz.Source(dot_data)  \n",
    "    graph.render(\"decision_tree\")\n",
    "    return graph "
   ]
  },
  {
   "cell_type": "code",
   "execution_count": 21,
   "id": "3be21d5f",
   "metadata": {},
   "outputs": [
    {
     "data": {
      "image/svg+xml": [
       "<?xml version=\"1.0\" encoding=\"UTF-8\" standalone=\"no\"?>\n",
       "<!DOCTYPE svg PUBLIC \"-//W3C//DTD SVG 1.1//EN\"\n",
       " \"http://www.w3.org/Graphics/SVG/1.1/DTD/svg11.dtd\">\n",
       "<!-- Generated by graphviz version 2.50.0 (0)\n",
       " -->\n",
       "<!-- Title: Tree Pages: 1 -->\n",
       "<svg width=\"712pt\" height=\"494pt\"\n",
       " viewBox=\"0.00 0.00 712.00 494.00\" xmlns=\"http://www.w3.org/2000/svg\" xmlns:xlink=\"http://www.w3.org/1999/xlink\">\n",
       "<g id=\"graph0\" class=\"graph\" transform=\"scale(1 1) rotate(0) translate(4 490)\">\n",
       "<title>Tree</title>\n",
       "<polygon fill=\"white\" stroke=\"transparent\" points=\"-4,4 -4,-490 708,-490 708,4 -4,4\"/>\n",
       "<!-- 0 -->\n",
       "<g id=\"node1\" class=\"node\">\n",
       "<title>0</title>\n",
       "<path fill=\"#ffffff\" stroke=\"black\" d=\"M403,-486C403,-486 156,-486 156,-486 150,-486 144,-480 144,-474 144,-474 144,-355 144,-355 144,-349 150,-343 156,-343 156,-343 403,-343 403,-343 409,-343 415,-349 415,-355 415,-355 415,-474 415,-474 415,-480 409,-486 403,-486\"/>\n",
       "<text text-anchor=\"start\" x=\"241.5\" y=\"-470.8\" font-family=\"Helvetica,sans-Serif\" font-size=\"14.00\">rating ≤ 7.95</text>\n",
       "<text text-anchor=\"start\" x=\"244\" y=\"-455.8\" font-family=\"Helvetica,sans-Serif\" font-size=\"14.00\">gini = 0.982</text>\n",
       "<text text-anchor=\"start\" x=\"238.5\" y=\"-440.8\" font-family=\"Helvetica,sans-Serif\" font-size=\"14.00\">samples = 57</text>\n",
       "<text text-anchor=\"start\" x=\"152\" y=\"-425.8\" font-family=\"Helvetica,sans-Serif\" font-size=\"14.00\">value = [1, 1, 1, 1, 1, 1, 1, 1, 1, 1, 1, 1, 1, 1</text>\n",
       "<text text-anchor=\"start\" x=\"178\" y=\"-410.8\" font-family=\"Helvetica,sans-Serif\" font-size=\"14.00\">1, 1, 1, 1, 1, 1, 1, 1, 1, 1, 1, 1, 1, 1</text>\n",
       "<text text-anchor=\"start\" x=\"178\" y=\"-395.8\" font-family=\"Helvetica,sans-Serif\" font-size=\"14.00\">1, 1, 1, 1, 1, 1, 1, 1, 1, 1, 1, 1, 1, 1</text>\n",
       "<text text-anchor=\"start\" x=\"178\" y=\"-380.8\" font-family=\"Helvetica,sans-Serif\" font-size=\"14.00\">1, 1, 1, 1, 1, 1, 1, 1, 1, 1, 1, 1, 1, 1</text>\n",
       "<text text-anchor=\"start\" x=\"273.5\" y=\"-365.8\" font-family=\"Helvetica,sans-Serif\" font-size=\"14.00\">1]</text>\n",
       "<text text-anchor=\"start\" x=\"243\" y=\"-350.8\" font-family=\"Helvetica,sans-Serif\" font-size=\"14.00\">class = Pilot</text>\n",
       "</g>\n",
       "<!-- 1 -->\n",
       "<g id=\"node2\" class=\"node\">\n",
       "<title>1</title>\n",
       "<path fill=\"#39cbe5\" stroke=\"black\" d=\"M259,-299.5C259,-299.5 12,-299.5 12,-299.5 6,-299.5 0,-293.5 0,-287.5 0,-287.5 0,-183.5 0,-183.5 0,-177.5 6,-171.5 12,-171.5 12,-171.5 259,-171.5 259,-171.5 265,-171.5 271,-177.5 271,-183.5 271,-183.5 271,-287.5 271,-287.5 271,-293.5 265,-299.5 259,-299.5\"/>\n",
       "<text text-anchor=\"start\" x=\"107.5\" y=\"-284.3\" font-family=\"Helvetica,sans-Serif\" font-size=\"14.00\">gini = 0.0</text>\n",
       "<text text-anchor=\"start\" x=\"98\" y=\"-269.3\" font-family=\"Helvetica,sans-Serif\" font-size=\"14.00\">samples = 1</text>\n",
       "<text text-anchor=\"start\" x=\"8\" y=\"-254.3\" font-family=\"Helvetica,sans-Serif\" font-size=\"14.00\">value = [0, 0, 0, 0, 0, 0, 0, 0, 0, 0, 0, 0, 0, 0</text>\n",
       "<text text-anchor=\"start\" x=\"34\" y=\"-239.3\" font-family=\"Helvetica,sans-Serif\" font-size=\"14.00\">0, 0, 0, 0, 0, 0, 0, 0, 0, 0, 0, 0, 1, 0</text>\n",
       "<text text-anchor=\"start\" x=\"34\" y=\"-224.3\" font-family=\"Helvetica,sans-Serif\" font-size=\"14.00\">0, 0, 0, 0, 0, 0, 0, 0, 0, 0, 0, 0, 0, 0</text>\n",
       "<text text-anchor=\"start\" x=\"34\" y=\"-209.3\" font-family=\"Helvetica,sans-Serif\" font-size=\"14.00\">0, 0, 0, 0, 0, 0, 0, 0, 0, 0, 0, 0, 0, 0</text>\n",
       "<text text-anchor=\"start\" x=\"129.5\" y=\"-194.3\" font-family=\"Helvetica,sans-Serif\" font-size=\"14.00\">0]</text>\n",
       "<text text-anchor=\"start\" x=\"68\" y=\"-179.3\" font-family=\"Helvetica,sans-Serif\" font-size=\"14.00\">class = Half Measures</text>\n",
       "</g>\n",
       "<!-- 0&#45;&gt;1 -->\n",
       "<g id=\"edge1\" class=\"edge\">\n",
       "<title>0&#45;&gt;1</title>\n",
       "<path fill=\"none\" stroke=\"black\" d=\"M221.97,-342.78C212.55,-331.2 202.78,-319.2 193.35,-307.61\"/>\n",
       "<polygon fill=\"black\" stroke=\"black\" points=\"195.91,-305.21 186.89,-299.67 190.48,-309.63 195.91,-305.21\"/>\n",
       "<text text-anchor=\"middle\" x=\"184.33\" y=\"-320.83\" font-family=\"Helvetica,sans-Serif\" font-size=\"14.00\">True</text>\n",
       "</g>\n",
       "<!-- 2 -->\n",
       "<g id=\"node3\" class=\"node\">\n",
       "<title>2</title>\n",
       "<path fill=\"#ffffff\" stroke=\"black\" d=\"M548,-307C548,-307 301,-307 301,-307 295,-307 289,-301 289,-295 289,-295 289,-176 289,-176 289,-170 295,-164 301,-164 301,-164 548,-164 548,-164 554,-164 560,-170 560,-176 560,-176 560,-295 560,-295 560,-301 554,-307 548,-307\"/>\n",
       "<text text-anchor=\"start\" x=\"390.5\" y=\"-291.8\" font-family=\"Helvetica,sans-Serif\" font-size=\"14.00\">rating ≤ 8.2</text>\n",
       "<text text-anchor=\"start\" x=\"389\" y=\"-276.8\" font-family=\"Helvetica,sans-Serif\" font-size=\"14.00\">gini = 0.982</text>\n",
       "<text text-anchor=\"start\" x=\"383.5\" y=\"-261.8\" font-family=\"Helvetica,sans-Serif\" font-size=\"14.00\">samples = 56</text>\n",
       "<text text-anchor=\"start\" x=\"297\" y=\"-246.8\" font-family=\"Helvetica,sans-Serif\" font-size=\"14.00\">value = [1, 1, 1, 1, 1, 1, 1, 1, 1, 1, 1, 1, 1, 1</text>\n",
       "<text text-anchor=\"start\" x=\"323\" y=\"-231.8\" font-family=\"Helvetica,sans-Serif\" font-size=\"14.00\">1, 1, 1, 1, 1, 1, 1, 1, 1, 1, 1, 1, 0, 1</text>\n",
       "<text text-anchor=\"start\" x=\"323\" y=\"-216.8\" font-family=\"Helvetica,sans-Serif\" font-size=\"14.00\">1, 1, 1, 1, 1, 1, 1, 1, 1, 1, 1, 1, 1, 1</text>\n",
       "<text text-anchor=\"start\" x=\"323\" y=\"-201.8\" font-family=\"Helvetica,sans-Serif\" font-size=\"14.00\">1, 1, 1, 1, 1, 1, 1, 1, 1, 1, 1, 1, 1, 1</text>\n",
       "<text text-anchor=\"start\" x=\"418.5\" y=\"-186.8\" font-family=\"Helvetica,sans-Serif\" font-size=\"14.00\">1]</text>\n",
       "<text text-anchor=\"start\" x=\"388\" y=\"-171.8\" font-family=\"Helvetica,sans-Serif\" font-size=\"14.00\">class = Pilot</text>\n",
       "</g>\n",
       "<!-- 0&#45;&gt;2 -->\n",
       "<g id=\"edge2\" class=\"edge\">\n",
       "<title>0&#45;&gt;2</title>\n",
       "<path fill=\"none\" stroke=\"black\" d=\"M337.43,-342.78C344.95,-333.6 352.69,-324.16 360.3,-314.87\"/>\n",
       "<polygon fill=\"black\" stroke=\"black\" points=\"363.03,-317.06 366.66,-307.11 357.61,-312.62 363.03,-317.06\"/>\n",
       "<text text-anchor=\"middle\" x=\"369.13\" y=\"-328.28\" font-family=\"Helvetica,sans-Serif\" font-size=\"14.00\">False</text>\n",
       "</g>\n",
       "<!-- 3 -->\n",
       "<g id=\"node4\" class=\"node\">\n",
       "<title>3</title>\n",
       "<path fill=\"#e539df\" stroke=\"black\" d=\"M403,-128C403,-128 156,-128 156,-128 150,-128 144,-122 144,-116 144,-116 144,-12 144,-12 144,-6 150,0 156,0 156,0 403,0 403,0 409,0 415,-6 415,-12 415,-12 415,-116 415,-116 415,-122 409,-128 403,-128\"/>\n",
       "<text text-anchor=\"start\" x=\"251.5\" y=\"-112.8\" font-family=\"Helvetica,sans-Serif\" font-size=\"14.00\">gini = 0.0</text>\n",
       "<text text-anchor=\"start\" x=\"242\" y=\"-97.8\" font-family=\"Helvetica,sans-Serif\" font-size=\"14.00\">samples = 1</text>\n",
       "<text text-anchor=\"start\" x=\"152\" y=\"-82.8\" font-family=\"Helvetica,sans-Serif\" font-size=\"14.00\">value = [0, 0, 0, 0, 0, 0, 0, 0, 0, 0, 0, 0, 0, 0</text>\n",
       "<text text-anchor=\"start\" x=\"178\" y=\"-67.8\" font-family=\"Helvetica,sans-Serif\" font-size=\"14.00\">0, 0, 0, 0, 0, 0, 0, 0, 0, 0, 0, 0, 0, 0</text>\n",
       "<text text-anchor=\"start\" x=\"178\" y=\"-52.8\" font-family=\"Helvetica,sans-Serif\" font-size=\"14.00\">0, 0, 0, 0, 0, 0, 0, 0, 0, 0, 0, 0, 0, 0</text>\n",
       "<text text-anchor=\"start\" x=\"178\" y=\"-37.8\" font-family=\"Helvetica,sans-Serif\" font-size=\"14.00\">0, 0, 1, 0, 0, 0, 0, 0, 0, 0, 0, 0, 0, 0</text>\n",
       "<text text-anchor=\"start\" x=\"273.5\" y=\"-22.8\" font-family=\"Helvetica,sans-Serif\" font-size=\"14.00\">0]</text>\n",
       "<text text-anchor=\"start\" x=\"228\" y=\"-7.8\" font-family=\"Helvetica,sans-Serif\" font-size=\"14.00\">class = Fifty&#45;One</text>\n",
       "</g>\n",
       "<!-- 2&#45;&gt;3 -->\n",
       "<g id=\"edge3\" class=\"edge\">\n",
       "<title>2&#45;&gt;3</title>\n",
       "<path fill=\"none\" stroke=\"black\" d=\"M363.85,-163.6C355.97,-154.39 347.89,-144.95 340.01,-135.74\"/>\n",
       "<polygon fill=\"black\" stroke=\"black\" points=\"342.61,-133.39 333.45,-128.06 337.29,-137.94 342.61,-133.39\"/>\n",
       "</g>\n",
       "<!-- 4 -->\n",
       "<g id=\"node5\" class=\"node\">\n",
       "<title>4</title>\n",
       "<path fill=\"#ffffff\" stroke=\"black\" d=\"M692,-128C692,-128 445,-128 445,-128 439,-128 433,-122 433,-116 433,-116 433,-12 433,-12 433,-6 439,0 445,0 445,0 692,0 692,0 698,0 704,-6 704,-12 704,-12 704,-116 704,-116 704,-122 698,-128 692,-128\"/>\n",
       "<text text-anchor=\"start\" x=\"533\" y=\"-112.8\" font-family=\"Helvetica,sans-Serif\" font-size=\"14.00\">gini = 0.982</text>\n",
       "<text text-anchor=\"start\" x=\"527.5\" y=\"-97.8\" font-family=\"Helvetica,sans-Serif\" font-size=\"14.00\">samples = 55</text>\n",
       "<text text-anchor=\"start\" x=\"441\" y=\"-82.8\" font-family=\"Helvetica,sans-Serif\" font-size=\"14.00\">value = [1, 1, 1, 1, 1, 1, 1, 1, 1, 1, 1, 1, 1, 1</text>\n",
       "<text text-anchor=\"start\" x=\"467\" y=\"-67.8\" font-family=\"Helvetica,sans-Serif\" font-size=\"14.00\">1, 1, 1, 1, 1, 1, 1, 1, 1, 1, 1, 1, 0, 1</text>\n",
       "<text text-anchor=\"start\" x=\"467\" y=\"-52.8\" font-family=\"Helvetica,sans-Serif\" font-size=\"14.00\">1, 1, 1, 1, 1, 1, 1, 1, 1, 1, 1, 1, 1, 1</text>\n",
       "<text text-anchor=\"start\" x=\"467\" y=\"-37.8\" font-family=\"Helvetica,sans-Serif\" font-size=\"14.00\">1, 1, 0, 1, 1, 1, 1, 1, 1, 1, 1, 1, 1, 1</text>\n",
       "<text text-anchor=\"start\" x=\"562.5\" y=\"-22.8\" font-family=\"Helvetica,sans-Serif\" font-size=\"14.00\">1]</text>\n",
       "<text text-anchor=\"start\" x=\"532\" y=\"-7.8\" font-family=\"Helvetica,sans-Serif\" font-size=\"14.00\">class = Pilot</text>\n",
       "</g>\n",
       "<!-- 2&#45;&gt;4 -->\n",
       "<g id=\"edge4\" class=\"edge\">\n",
       "<title>2&#45;&gt;4</title>\n",
       "<path fill=\"none\" stroke=\"black\" d=\"M484.73,-163.6C492.56,-154.39 500.58,-144.95 508.41,-135.74\"/>\n",
       "<polygon fill=\"black\" stroke=\"black\" points=\"511.12,-137.95 514.92,-128.06 505.78,-133.42 511.12,-137.95\"/>\n",
       "</g>\n",
       "</g>\n",
       "</svg>\n"
      ],
      "text/plain": [
       "<graphviz.sources.Source at 0x203008eaaf0>"
      ]
     },
     "execution_count": 21,
     "metadata": {},
     "output_type": "execute_result"
    }
   ],
   "source": [
    "plot_tree_classification(dt_classification, features, bb.title.unique())"
   ]
  },
  {
   "cell_type": "code",
   "execution_count": 24,
   "id": "beca59fa",
   "metadata": {},
   "outputs": [
    {
     "name": "stdout",
     "output_type": "stream",
     "text": [
      "(39, 7) (18, 7)\n"
     ]
    }
   ],
   "source": [
    "bb_train, bb_test = train_test_split(bb, test_size=0.3, stratify=bb['year'], random_state=42)\n",
    "print(bb_train.shape, bb_test.shape)"
   ]
  },
  {
   "cell_type": "code",
   "execution_count": 25,
   "id": "6530690b",
   "metadata": {},
   "outputs": [],
   "source": [
    "def calculate_accuracy(predictions, actuals):\n",
    "    if(len(predictions) != len(actuals)):\n",
    "        raise Exception(\"The amount of predictions did not equal the amount of actuals\")\n",
    "    \n",
    "    return (predictions == actuals).sum() / len(actuals)"
   ]
  },
  {
   "cell_type": "code",
   "execution_count": 26,
   "id": "9511828b",
   "metadata": {},
   "outputs": [],
   "source": [
    "predictionsOnTrainset = dt_classification.predict(bb_train[features])\n",
    "predictionsOnTestset = dt_classification.predict(bb_test[features])"
   ]
  },
  {
   "cell_type": "code",
   "execution_count": 27,
   "id": "90359ee1",
   "metadata": {},
   "outputs": [],
   "source": [
    "accuracyTrain = calculate_accuracy(predictionsOnTrainset, bb_train['title'])\n",
    "accuracyTest = calculate_accuracy(predictionsOnTestset, bb_test['title'])"
   ]
  },
  {
   "cell_type": "code",
   "execution_count": 28,
   "id": "069ebbf5",
   "metadata": {},
   "outputs": [
    {
     "name": "stdout",
     "output_type": "stream",
     "text": [
      "Accuracy on training set 0.05128205128205128\n",
      "Accuracy on test set 0.05555555555555555\n"
     ]
    }
   ],
   "source": [
    "print(\"Accuracy on training set \" + str(accuracyTrain))\n",
    "print(\"Accuracy on test set \" + str(accuracyTest))"
   ]
  },
  {
   "cell_type": "code",
   "execution_count": null,
   "id": "8d4bcb77",
   "metadata": {},
   "outputs": [],
   "source": []
  }
 ],
 "metadata": {
  "kernelspec": {
   "display_name": "Python 3 (ipykernel)",
   "language": "python",
   "name": "python3"
  },
  "language_info": {
   "codemirror_mode": {
    "name": "ipython",
    "version": 3
   },
   "file_extension": ".py",
   "mimetype": "text/x-python",
   "name": "python",
   "nbconvert_exporter": "python",
   "pygments_lexer": "ipython3",
   "version": "3.9.13"
  }
 },
 "nbformat": 4,
 "nbformat_minor": 5
}
