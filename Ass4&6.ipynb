{
 "cells": [
  {
   "cell_type": "code",
   "execution_count": 49,
   "id": "427e9432",
   "metadata": {},
   "outputs": [],
   "source": [
    "import pandas as pd"
   ]
  },
  {
   "cell_type": "code",
   "execution_count": 50,
   "id": "ebc153cb",
   "metadata": {},
   "outputs": [],
   "source": [
    "import seaborn as sns"
   ]
  },
  {
   "cell_type": "code",
   "execution_count": 51,
   "id": "c420fb39",
   "metadata": {},
   "outputs": [],
   "source": [
    "bb = pd.read_csv('breaking-bad.csv', sep=',')"
   ]
  },
  {
   "cell_type": "code",
   "execution_count": 52,
   "id": "1e625a42",
   "metadata": {},
   "outputs": [
    {
     "data": {
      "text/html": [
       "<div>\n",
       "<style scoped>\n",
       "    .dataframe tbody tr th:only-of-type {\n",
       "        vertical-align: middle;\n",
       "    }\n",
       "\n",
       "    .dataframe tbody tr th {\n",
       "        vertical-align: top;\n",
       "    }\n",
       "\n",
       "    .dataframe thead th {\n",
       "        text-align: right;\n",
       "    }\n",
       "</style>\n",
       "<table border=\"1\" class=\"dataframe\">\n",
       "  <thead>\n",
       "    <tr style=\"text-align: right;\">\n",
       "      <th></th>\n",
       "      <th>season</th>\n",
       "      <th>episode</th>\n",
       "      <th>title</th>\n",
       "      <th>year</th>\n",
       "      <th>votes</th>\n",
       "      <th>rating</th>\n",
       "      <th>us-viewers</th>\n",
       "    </tr>\n",
       "  </thead>\n",
       "  <tbody>\n",
       "    <tr>\n",
       "      <th>0</th>\n",
       "      <td>1</td>\n",
       "      <td>1</td>\n",
       "      <td>Pilot</td>\n",
       "      <td>2008</td>\n",
       "      <td>23970</td>\n",
       "      <td>9.0</td>\n",
       "      <td>1.41</td>\n",
       "    </tr>\n",
       "    <tr>\n",
       "      <th>1</th>\n",
       "      <td>1</td>\n",
       "      <td>2</td>\n",
       "      <td>Cat's in the Bag...</td>\n",
       "      <td>2008</td>\n",
       "      <td>17267</td>\n",
       "      <td>8.7</td>\n",
       "      <td>1.49</td>\n",
       "    </tr>\n",
       "    <tr>\n",
       "      <th>2</th>\n",
       "      <td>1</td>\n",
       "      <td>3</td>\n",
       "      <td>...And the Bag's in the River</td>\n",
       "      <td>2008</td>\n",
       "      <td>16719</td>\n",
       "      <td>8.8</td>\n",
       "      <td>1.08</td>\n",
       "    </tr>\n",
       "    <tr>\n",
       "      <th>3</th>\n",
       "      <td>1</td>\n",
       "      <td>4</td>\n",
       "      <td>Cancer Man</td>\n",
       "      <td>2008</td>\n",
       "      <td>16211</td>\n",
       "      <td>8.3</td>\n",
       "      <td>1.09</td>\n",
       "    </tr>\n",
       "    <tr>\n",
       "      <th>4</th>\n",
       "      <td>1</td>\n",
       "      <td>5</td>\n",
       "      <td>Gray Matter</td>\n",
       "      <td>2008</td>\n",
       "      <td>15896</td>\n",
       "      <td>8.4</td>\n",
       "      <td>0.97</td>\n",
       "    </tr>\n",
       "  </tbody>\n",
       "</table>\n",
       "</div>"
      ],
      "text/plain": [
       "   season  episode                          title  year  votes  rating  \\\n",
       "0       1        1                          Pilot  2008  23970     9.0   \n",
       "1       1        2            Cat's in the Bag...  2008  17267     8.7   \n",
       "2       1        3  ...And the Bag's in the River  2008  16719     8.8   \n",
       "3       1        4                     Cancer Man  2008  16211     8.3   \n",
       "4       1        5                    Gray Matter  2008  15896     8.4   \n",
       "\n",
       "   us-viewers  \n",
       "0        1.41  \n",
       "1        1.49  \n",
       "2        1.08  \n",
       "3        1.09  \n",
       "4        0.97  "
      ]
     },
     "execution_count": 52,
     "metadata": {},
     "output_type": "execute_result"
    }
   ],
   "source": [
    "bb.head()"
   ]
  },
  {
   "cell_type": "markdown",
   "id": "be8a641f",
   "metadata": {},
   "source": [
    "### Portfolio assignment 6\n",
    "60 min: Perform a univariate analysis on at least 2 columns with categorical data and on at least 2 columns with numerical data in the dataset that you chose in portfolio assignment 4. Commit the Notebook to your portfolio when you're finished."
   ]
  },
  {
   "cell_type": "markdown",
   "id": "7a55cb7c",
   "metadata": {},
   "source": [
    "### Categorical Data"
   ]
  },
  {
   "cell_type": "code",
   "execution_count": 55,
   "id": "0a03d2f4",
   "metadata": {},
   "outputs": [
    {
     "data": {
      "text/plain": [
       "2009    13\n",
       "2010    13\n",
       "2011    13\n",
       "2012     8\n",
       "2013     8\n",
       "2008     7\n",
       "Name: year, dtype: int64"
      ]
     },
     "execution_count": 55,
     "metadata": {},
     "output_type": "execute_result"
    }
   ],
   "source": [
    "bb['year'].value_counts()"
   ]
  },
  {
   "cell_type": "code",
   "execution_count": 57,
   "id": "bebd1fb1",
   "metadata": {},
   "outputs": [
    {
     "data": {
      "text/plain": [
       "5    16\n",
       "2    13\n",
       "3    13\n",
       "4    13\n",
       "1     7\n",
       "Name: season, dtype: int64"
      ]
     },
     "execution_count": 57,
     "metadata": {},
     "output_type": "execute_result"
    }
   ],
   "source": [
    "bb['season'].value_counts()"
   ]
  },
  {
   "cell_type": "code",
   "execution_count": 60,
   "id": "62af42c7",
   "metadata": {},
   "outputs": [
    {
     "data": {
      "text/html": [
       "<div>\n",
       "<style scoped>\n",
       "    .dataframe tbody tr th:only-of-type {\n",
       "        vertical-align: middle;\n",
       "    }\n",
       "\n",
       "    .dataframe tbody tr th {\n",
       "        vertical-align: top;\n",
       "    }\n",
       "\n",
       "    .dataframe thead th {\n",
       "        text-align: right;\n",
       "    }\n",
       "</style>\n",
       "<table border=\"1\" class=\"dataframe\">\n",
       "  <thead>\n",
       "    <tr style=\"text-align: right;\">\n",
       "      <th></th>\n",
       "      <th>season</th>\n",
       "      <th>episode</th>\n",
       "      <th>title</th>\n",
       "      <th>year</th>\n",
       "      <th>votes</th>\n",
       "      <th>rating</th>\n",
       "      <th>us-viewers</th>\n",
       "    </tr>\n",
       "  </thead>\n",
       "  <tbody>\n",
       "    <tr>\n",
       "      <th>0</th>\n",
       "      <td>1</td>\n",
       "      <td>1</td>\n",
       "      <td>Pilot</td>\n",
       "      <td>2008</td>\n",
       "      <td>23970</td>\n",
       "      <td>9.0</td>\n",
       "      <td>1.41</td>\n",
       "    </tr>\n",
       "    <tr>\n",
       "      <th>1</th>\n",
       "      <td>1</td>\n",
       "      <td>2</td>\n",
       "      <td>Cat's in the Bag...</td>\n",
       "      <td>2008</td>\n",
       "      <td>17267</td>\n",
       "      <td>8.7</td>\n",
       "      <td>1.49</td>\n",
       "    </tr>\n",
       "    <tr>\n",
       "      <th>2</th>\n",
       "      <td>1</td>\n",
       "      <td>3</td>\n",
       "      <td>...And the Bag's in the River</td>\n",
       "      <td>2008</td>\n",
       "      <td>16719</td>\n",
       "      <td>8.8</td>\n",
       "      <td>1.08</td>\n",
       "    </tr>\n",
       "    <tr>\n",
       "      <th>3</th>\n",
       "      <td>1</td>\n",
       "      <td>4</td>\n",
       "      <td>Cancer Man</td>\n",
       "      <td>2008</td>\n",
       "      <td>16211</td>\n",
       "      <td>8.3</td>\n",
       "      <td>1.09</td>\n",
       "    </tr>\n",
       "    <tr>\n",
       "      <th>4</th>\n",
       "      <td>1</td>\n",
       "      <td>5</td>\n",
       "      <td>Gray Matter</td>\n",
       "      <td>2008</td>\n",
       "      <td>15896</td>\n",
       "      <td>8.4</td>\n",
       "      <td>0.97</td>\n",
       "    </tr>\n",
       "    <tr>\n",
       "      <th>5</th>\n",
       "      <td>1</td>\n",
       "      <td>6</td>\n",
       "      <td>Crazy Handful of Nothin'</td>\n",
       "      <td>2008</td>\n",
       "      <td>18447</td>\n",
       "      <td>9.3</td>\n",
       "      <td>1.07</td>\n",
       "    </tr>\n",
       "    <tr>\n",
       "      <th>6</th>\n",
       "      <td>1</td>\n",
       "      <td>7</td>\n",
       "      <td>A No-Rough-Stuff-Type Deal</td>\n",
       "      <td>2008</td>\n",
       "      <td>16208</td>\n",
       "      <td>8.9</td>\n",
       "      <td>1.50</td>\n",
       "    </tr>\n",
       "  </tbody>\n",
       "</table>\n",
       "</div>"
      ],
      "text/plain": [
       "   season  episode                          title  year  votes  rating  \\\n",
       "0       1        1                          Pilot  2008  23970     9.0   \n",
       "1       1        2            Cat's in the Bag...  2008  17267     8.7   \n",
       "2       1        3  ...And the Bag's in the River  2008  16719     8.8   \n",
       "3       1        4                     Cancer Man  2008  16211     8.3   \n",
       "4       1        5                    Gray Matter  2008  15896     8.4   \n",
       "5       1        6       Crazy Handful of Nothin'  2008  18447     9.3   \n",
       "6       1        7     A No-Rough-Stuff-Type Deal  2008  16208     8.9   \n",
       "\n",
       "   us-viewers  \n",
       "0        1.41  \n",
       "1        1.49  \n",
       "2        1.08  \n",
       "3        1.09  \n",
       "4        0.97  \n",
       "5        1.07  \n",
       "6        1.50  "
      ]
     },
     "execution_count": 60,
     "metadata": {},
     "output_type": "execute_result"
    }
   ],
   "source": [
    "seasonOneFilter = bb['season'] == 1\n",
    "bb[seasonOneFilter].head(10)"
   ]
  },
  {
   "cell_type": "code",
   "execution_count": 61,
   "id": "00bea9c4",
   "metadata": {},
   "outputs": [
    {
     "data": {
      "text/html": [
       "<div>\n",
       "<style scoped>\n",
       "    .dataframe tbody tr th:only-of-type {\n",
       "        vertical-align: middle;\n",
       "    }\n",
       "\n",
       "    .dataframe tbody tr th {\n",
       "        vertical-align: top;\n",
       "    }\n",
       "\n",
       "    .dataframe thead th {\n",
       "        text-align: right;\n",
       "    }\n",
       "</style>\n",
       "<table border=\"1\" class=\"dataframe\">\n",
       "  <thead>\n",
       "    <tr style=\"text-align: right;\">\n",
       "      <th></th>\n",
       "      <th>season</th>\n",
       "      <th>episode</th>\n",
       "      <th>title</th>\n",
       "      <th>year</th>\n",
       "      <th>votes</th>\n",
       "      <th>rating</th>\n",
       "      <th>us-viewers</th>\n",
       "    </tr>\n",
       "  </thead>\n",
       "  <tbody>\n",
       "    <tr>\n",
       "      <th>0</th>\n",
       "      <td>1</td>\n",
       "      <td>1</td>\n",
       "      <td>Pilot</td>\n",
       "      <td>2008</td>\n",
       "      <td>23970</td>\n",
       "      <td>9.0</td>\n",
       "      <td>1.41</td>\n",
       "    </tr>\n",
       "    <tr>\n",
       "      <th>1</th>\n",
       "      <td>1</td>\n",
       "      <td>2</td>\n",
       "      <td>Cat's in the Bag...</td>\n",
       "      <td>2008</td>\n",
       "      <td>17267</td>\n",
       "      <td>8.7</td>\n",
       "      <td>1.49</td>\n",
       "    </tr>\n",
       "    <tr>\n",
       "      <th>2</th>\n",
       "      <td>1</td>\n",
       "      <td>3</td>\n",
       "      <td>...And the Bag's in the River</td>\n",
       "      <td>2008</td>\n",
       "      <td>16719</td>\n",
       "      <td>8.8</td>\n",
       "      <td>1.08</td>\n",
       "    </tr>\n",
       "    <tr>\n",
       "      <th>3</th>\n",
       "      <td>1</td>\n",
       "      <td>4</td>\n",
       "      <td>Cancer Man</td>\n",
       "      <td>2008</td>\n",
       "      <td>16211</td>\n",
       "      <td>8.3</td>\n",
       "      <td>1.09</td>\n",
       "    </tr>\n",
       "    <tr>\n",
       "      <th>4</th>\n",
       "      <td>1</td>\n",
       "      <td>5</td>\n",
       "      <td>Gray Matter</td>\n",
       "      <td>2008</td>\n",
       "      <td>15896</td>\n",
       "      <td>8.4</td>\n",
       "      <td>0.97</td>\n",
       "    </tr>\n",
       "    <tr>\n",
       "      <th>5</th>\n",
       "      <td>1</td>\n",
       "      <td>6</td>\n",
       "      <td>Crazy Handful of Nothin'</td>\n",
       "      <td>2008</td>\n",
       "      <td>18447</td>\n",
       "      <td>9.3</td>\n",
       "      <td>1.07</td>\n",
       "    </tr>\n",
       "    <tr>\n",
       "      <th>6</th>\n",
       "      <td>1</td>\n",
       "      <td>7</td>\n",
       "      <td>A No-Rough-Stuff-Type Deal</td>\n",
       "      <td>2008</td>\n",
       "      <td>16208</td>\n",
       "      <td>8.9</td>\n",
       "      <td>1.50</td>\n",
       "    </tr>\n",
       "  </tbody>\n",
       "</table>\n",
       "</div>"
      ],
      "text/plain": [
       "   season  episode                          title  year  votes  rating  \\\n",
       "0       1        1                          Pilot  2008  23970     9.0   \n",
       "1       1        2            Cat's in the Bag...  2008  17267     8.7   \n",
       "2       1        3  ...And the Bag's in the River  2008  16719     8.8   \n",
       "3       1        4                     Cancer Man  2008  16211     8.3   \n",
       "4       1        5                    Gray Matter  2008  15896     8.4   \n",
       "5       1        6       Crazy Handful of Nothin'  2008  18447     9.3   \n",
       "6       1        7     A No-Rough-Stuff-Type Deal  2008  16208     8.9   \n",
       "\n",
       "   us-viewers  \n",
       "0        1.41  \n",
       "1        1.49  \n",
       "2        1.08  \n",
       "3        1.09  \n",
       "4        0.97  \n",
       "5        1.07  \n",
       "6        1.50  "
      ]
     },
     "execution_count": 61,
     "metadata": {},
     "output_type": "execute_result"
    }
   ],
   "source": [
    "yearFilter = bb['year'] == 2008\n",
    "bb[yearFilter].head(10)"
   ]
  },
  {
   "cell_type": "code",
   "execution_count": 63,
   "id": "73ab95a9",
   "metadata": {},
   "outputs": [
    {
     "data": {
      "text/plain": [
       "<AxesSubplot:>"
      ]
     },
     "execution_count": 63,
     "metadata": {},
     "output_type": "execute_result"
    },
    {
     "data": {
      "image/png": "[encoded data removed]",
      "text/plain": [
       "<Figure size 640x480 with 1 Axes>"
      ]
     },
     "metadata": {},
     "output_type": "display_data"
    }
   ],
   "source": [
    "bb['season'].value_counts().plot(kind='bar')"
   ]
  },
  {
   "cell_type": "code",
   "execution_count": 64,
   "id": "bceacc94",
   "metadata": {},
   "outputs": [
    {
     "data": {
      "text/plain": [
       "<AxesSubplot:>"
      ]
     },
     "execution_count": 64,
     "metadata": {},
     "output_type": "execute_result"
    },
    {
     "data": {
      "image/png": "[encoded data removed]",
      "text/plain": [
       "<Figure size 640x480 with 1 Axes>"
      ]
     },
     "metadata": {},
     "output_type": "display_data"
    }
   ],
   "source": [
    "bb['year'].value_counts().plot(kind='bar')"
   ]
  },
  {
   "cell_type": "markdown",
   "id": "6be6f46d",
   "metadata": {},
   "source": [
    "### Numerical Data"
   ]
  },
  {
   "cell_type": "code",
   "execution_count": 65,
   "id": "0f859b54",
   "metadata": {},
   "outputs": [
    {
     "data": {
      "text/html": [
       "<div>\n",
       "<style scoped>\n",
       "    .dataframe tbody tr th:only-of-type {\n",
       "        vertical-align: middle;\n",
       "    }\n",
       "\n",
       "    .dataframe tbody tr th {\n",
       "        vertical-align: top;\n",
       "    }\n",
       "\n",
       "    .dataframe thead th {\n",
       "        text-align: right;\n",
       "    }\n",
       "</style>\n",
       "<table border=\"1\" class=\"dataframe\">\n",
       "  <thead>\n",
       "    <tr style=\"text-align: right;\">\n",
       "      <th></th>\n",
       "      <th>season</th>\n",
       "      <th>episode</th>\n",
       "      <th>title</th>\n",
       "      <th>year</th>\n",
       "      <th>votes</th>\n",
       "      <th>rating</th>\n",
       "      <th>us-viewers</th>\n",
       "    </tr>\n",
       "  </thead>\n",
       "  <tbody>\n",
       "    <tr>\n",
       "      <th>0</th>\n",
       "      <td>1</td>\n",
       "      <td>1</td>\n",
       "      <td>Pilot</td>\n",
       "      <td>2008</td>\n",
       "      <td>23970</td>\n",
       "      <td>9.0</td>\n",
       "      <td>1.41</td>\n",
       "    </tr>\n",
       "    <tr>\n",
       "      <th>1</th>\n",
       "      <td>1</td>\n",
       "      <td>2</td>\n",
       "      <td>Cat's in the Bag...</td>\n",
       "      <td>2008</td>\n",
       "      <td>17267</td>\n",
       "      <td>8.7</td>\n",
       "      <td>1.49</td>\n",
       "    </tr>\n",
       "    <tr>\n",
       "      <th>2</th>\n",
       "      <td>1</td>\n",
       "      <td>3</td>\n",
       "      <td>...And the Bag's in the River</td>\n",
       "      <td>2008</td>\n",
       "      <td>16719</td>\n",
       "      <td>8.8</td>\n",
       "      <td>1.08</td>\n",
       "    </tr>\n",
       "    <tr>\n",
       "      <th>3</th>\n",
       "      <td>1</td>\n",
       "      <td>4</td>\n",
       "      <td>Cancer Man</td>\n",
       "      <td>2008</td>\n",
       "      <td>16211</td>\n",
       "      <td>8.3</td>\n",
       "      <td>1.09</td>\n",
       "    </tr>\n",
       "    <tr>\n",
       "      <th>4</th>\n",
       "      <td>1</td>\n",
       "      <td>5</td>\n",
       "      <td>Gray Matter</td>\n",
       "      <td>2008</td>\n",
       "      <td>15896</td>\n",
       "      <td>8.4</td>\n",
       "      <td>0.97</td>\n",
       "    </tr>\n",
       "  </tbody>\n",
       "</table>\n",
       "</div>"
      ],
      "text/plain": [
       "   season  episode                          title  year  votes  rating  \\\n",
       "0       1        1                          Pilot  2008  23970     9.0   \n",
       "1       1        2            Cat's in the Bag...  2008  17267     8.7   \n",
       "2       1        3  ...And the Bag's in the River  2008  16719     8.8   \n",
       "3       1        4                     Cancer Man  2008  16211     8.3   \n",
       "4       1        5                    Gray Matter  2008  15896     8.4   \n",
       "\n",
       "   us-viewers  \n",
       "0        1.41  \n",
       "1        1.49  \n",
       "2        1.08  \n",
       "3        1.09  \n",
       "4        0.97  "
      ]
     },
     "execution_count": 65,
     "metadata": {},
     "output_type": "execute_result"
    }
   ],
   "source": [
    "bb.head()"
   ]
  },
  {
   "cell_type": "code",
   "execution_count": 66,
   "id": "f334e7f9",
   "metadata": {},
   "outputs": [
    {
     "data": {
      "text/plain": [
       "8.9     8\n",
       "9.3     7\n",
       "8.7     7\n",
       "9.2     5\n",
       "9.6     5\n",
       "8.5     4\n",
       "8.3     4\n",
       "9.7     4\n",
       "8.4     3\n",
       "9.5     3\n",
       "9.9     2\n",
       "8.8     2\n",
       "8.6     2\n",
       "9.8     1\n",
       "9.1     1\n",
       "9.0     1\n",
       "8.1     1\n",
       "7.8     1\n",
       "10.0    1\n",
       "Name: rating, dtype: int64"
      ]
     },
     "execution_count": 66,
     "metadata": {},
     "output_type": "execute_result"
    }
   ],
   "source": [
    "bb['rating'].value_counts()"
   ]
  },
  {
   "cell_type": "code",
   "execution_count": 84,
   "id": "1aa0707e",
   "metadata": {},
   "outputs": [
    {
     "data": {
      "text/plain": [
       "23970    1\n",
       "19061    1\n",
       "16165    1\n",
       "13396    1\n",
       "13529    1\n",
       "        ..\n",
       "15028    1\n",
       "18580    1\n",
       "13013    1\n",
       "12901    1\n",
       "84651    1\n",
       "Name: votes, Length: 62, dtype: int64"
      ]
     },
     "execution_count": 84,
     "metadata": {},
     "output_type": "execute_result"
    }
   ],
   "source": [
    "bb['votes'].value_counts()"
   ]
  },
  {
   "cell_type": "code",
   "execution_count": 85,
   "id": "5b15a40a",
   "metadata": {},
   "outputs": [],
   "source": [
    "column1 = 'rating'\n",
    "column2 = 'votes'"
   ]
  },
  {
   "cell_type": "code",
   "execution_count": 86,
   "id": "0b616db9",
   "metadata": {},
   "outputs": [
    {
     "data": {
      "text/plain": [
       "7.8"
      ]
     },
     "execution_count": 86,
     "metadata": {},
     "output_type": "execute_result"
    }
   ],
   "source": [
    "bb[column1].min()"
   ]
  },
  {
   "cell_type": "code",
   "execution_count": 87,
   "id": "64932c42",
   "metadata": {},
   "outputs": [
    {
     "data": {
      "text/plain": [
       "12557"
      ]
     },
     "execution_count": 87,
     "metadata": {},
     "output_type": "execute_result"
    }
   ],
   "source": [
    "bb[column2].min()"
   ]
  },
  {
   "cell_type": "code",
   "execution_count": 88,
   "id": "8bb7aa3d",
   "metadata": {},
   "outputs": [
    {
     "data": {
      "text/plain": [
       "10.0"
      ]
     },
     "execution_count": 88,
     "metadata": {},
     "output_type": "execute_result"
    }
   ],
   "source": [
    "bb[column1].max()"
   ]
  },
  {
   "cell_type": "code",
   "execution_count": 89,
   "id": "1a5e2d2f",
   "metadata": {},
   "outputs": [
    {
     "data": {
      "text/plain": [
       "119128"
      ]
     },
     "execution_count": 89,
     "metadata": {},
     "output_type": "execute_result"
    }
   ],
   "source": [
    "bb[column2].max()"
   ]
  },
  {
   "cell_type": "code",
   "execution_count": 90,
   "id": "94aa2466",
   "metadata": {},
   "outputs": [
    {
     "data": {
      "text/plain": [
       "9.020967741935483"
      ]
     },
     "execution_count": 90,
     "metadata": {},
     "output_type": "execute_result"
    }
   ],
   "source": [
    "bb[column1].mean()"
   ]
  },
  {
   "cell_type": "code",
   "execution_count": 91,
   "id": "a72f5886",
   "metadata": {},
   "outputs": [
    {
     "data": {
      "text/plain": [
       "19876.516129032258"
      ]
     },
     "execution_count": 91,
     "metadata": {},
     "output_type": "execute_result"
    }
   ],
   "source": [
    "bb[column2].mean()"
   ]
  },
  {
   "cell_type": "code",
   "execution_count": 92,
   "id": "df75422d",
   "metadata": {},
   "outputs": [
    {
     "data": {
      "text/plain": [
       "8.9"
      ]
     },
     "execution_count": 92,
     "metadata": {},
     "output_type": "execute_result"
    }
   ],
   "source": [
    "bb[column1].median()"
   ]
  },
  {
   "cell_type": "code",
   "execution_count": 93,
   "id": "97116513",
   "metadata": {},
   "outputs": [
    {
     "data": {
      "text/plain": [
       "15958.5"
      ]
     },
     "execution_count": 93,
     "metadata": {},
     "output_type": "execute_result"
    }
   ],
   "source": [
    "bb[column2].median()"
   ]
  },
  {
   "cell_type": "code",
   "execution_count": 94,
   "id": "e92aa853",
   "metadata": {},
   "outputs": [
    {
     "data": {
      "text/plain": [
       "0.5118712366179454"
      ]
     },
     "execution_count": 94,
     "metadata": {},
     "output_type": "execute_result"
    }
   ],
   "source": [
    "bb[column1].std()"
   ]
  },
  {
   "cell_type": "code",
   "execution_count": 95,
   "id": "6685405e",
   "metadata": {},
   "outputs": [
    {
     "data": {
      "text/plain": [
       "16237.269162651439"
      ]
     },
     "execution_count": 95,
     "metadata": {},
     "output_type": "execute_result"
    }
   ],
   "source": [
    "bb[column2].std()"
   ]
  },
  {
   "cell_type": "code",
   "execution_count": 96,
   "id": "f78e1fa4",
   "metadata": {},
   "outputs": [
    {
     "data": {
      "text/plain": [
       "<AxesSubplot:ylabel='Frequency'>"
      ]
     },
     "execution_count": 96,
     "metadata": {},
     "output_type": "execute_result"
    },
    {
     "data": {
      "image/png": "[encoded data removed]",
      "text/plain": [
       "<Figure size 640x480 with 1 Axes>"
      ]
     },
     "metadata": {},
     "output_type": "display_data"
    }
   ],
   "source": [
    "bb[column1].plot(kind='hist', bins=20)"
   ]
  },
  {
   "cell_type": "code",
   "execution_count": 97,
   "id": "ecc53713",
   "metadata": {},
   "outputs": [
    {
     "data": {
      "text/plain": [
       "<AxesSubplot:ylabel='Frequency'>"
      ]
     },
     "execution_count": 97,
     "metadata": {},
     "output_type": "execute_result"
    },
    {
     "data": {
      "image/png": "[encoded data removed]",
      "text/plain": [
       "<Figure size 640x480 with 1 Axes>"
      ]
     },
     "metadata": {},
     "output_type": "display_data"
    }
   ],
   "source": [
    "bb[column2].plot(kind='hist', bins=20)"
   ]
  },
  {
   "cell_type": "code",
   "execution_count": 98,
   "id": "138f5b2b",
   "metadata": {},
   "outputs": [
    {
     "data": {
      "text/plain": [
       "<AxesSubplot:>"
      ]
     },
     "execution_count": 98,
     "metadata": {},
     "output_type": "execute_result"
    },
    {
     "data": {
      "image/png": "[encoded data removed]",
      "text/plain": [
       "<Figure size 640x480 with 1 Axes>"
      ]
     },
     "metadata": {},
     "output_type": "display_data"
    }
   ],
   "source": [
    "bb[column1].plot(kind='box')"
   ]
  },
  {
   "cell_type": "code",
   "execution_count": 99,
   "id": "b6421f37",
   "metadata": {},
   "outputs": [
    {
     "data": {
      "text/plain": [
       "<AxesSubplot:>"
      ]
     },
     "execution_count": 99,
     "metadata": {},
     "output_type": "execute_result"
    },
    {
     "data": {
      "image/png": "[encoded data removed]",
      "text/plain": [
       "<Figure size 640x480 with 1 Axes>"
      ]
     },
     "metadata": {},
     "output_type": "display_data"
    }
   ],
   "source": [
    "bb[column2].plot(kind='box')"
   ]
  },
  {
   "cell_type": "code",
   "execution_count": null,
   "id": "0aa52cc2",
   "metadata": {},
   "outputs": [],
   "source": []
  }
 ],
 "metadata": {
  "kernelspec": {
   "display_name": "Python 3 (ipykernel)",
   "language": "python",
   "name": "python3"
  },
  "language_info": {
   "codemirror_mode": {
    "name": "ipython",
    "version": 3
   },
   "file_extension": ".py",
   "mimetype": "text/x-python",
   "name": "python",
   "nbconvert_exporter": "python",
   "pygments_lexer": "ipython3",
   "version": "3.9.13"
  }
 },
 "nbformat": 4,
 "nbformat_minor": 5
}
