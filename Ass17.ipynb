{
 "cells": [
  {
   "cell_type": "code",
   "execution_count": 1,
   "id": "e4239335",
   "metadata": {},
   "outputs": [],
   "source": [
    "import pandas as pd"
   ]
  },
  {
   "cell_type": "code",
   "execution_count": 2,
   "id": "fa571437",
   "metadata": {},
   "outputs": [],
   "source": [
    "import seaborn as sns"
   ]
  },
  {
   "cell_type": "code",
   "execution_count": 3,
   "id": "43ecce7e",
   "metadata": {},
   "outputs": [],
   "source": [
    "from sklearn.tree import DecisionTreeRegressor"
   ]
  },
  {
   "cell_type": "code",
   "execution_count": 4,
   "id": "44ee30e3",
   "metadata": {},
   "outputs": [],
   "source": [
    "from sklearn.model_selection import train_test_split"
   ]
  },
  {
   "cell_type": "code",
   "execution_count": 5,
   "id": "057ca5ae",
   "metadata": {},
   "outputs": [],
   "source": [
    "penguins = sns.load_dataset('penguins')"
   ]
  },
  {
   "cell_type": "code",
   "execution_count": 6,
   "id": "a416c897",
   "metadata": {},
   "outputs": [
    {
     "data": {
      "text/html": [
       "<div>\n",
       "<style scoped>\n",
       "    .dataframe tbody tr th:only-of-type {\n",
       "        vertical-align: middle;\n",
       "    }\n",
       "\n",
       "    .dataframe tbody tr th {\n",
       "        vertical-align: top;\n",
       "    }\n",
       "\n",
       "    .dataframe thead th {\n",
       "        text-align: right;\n",
       "    }\n",
       "</style>\n",
       "<table border=\"1\" class=\"dataframe\">\n",
       "  <thead>\n",
       "    <tr style=\"text-align: right;\">\n",
       "      <th></th>\n",
       "      <th>species</th>\n",
       "      <th>island</th>\n",
       "      <th>bill_length_mm</th>\n",
       "      <th>bill_depth_mm</th>\n",
       "      <th>flipper_length_mm</th>\n",
       "      <th>body_mass_g</th>\n",
       "      <th>sex</th>\n",
       "    </tr>\n",
       "  </thead>\n",
       "  <tbody>\n",
       "    <tr>\n",
       "      <th>0</th>\n",
       "      <td>Adelie</td>\n",
       "      <td>Torgersen</td>\n",
       "      <td>39.1</td>\n",
       "      <td>18.7</td>\n",
       "      <td>181.0</td>\n",
       "      <td>3750.0</td>\n",
       "      <td>Male</td>\n",
       "    </tr>\n",
       "    <tr>\n",
       "      <th>1</th>\n",
       "      <td>Adelie</td>\n",
       "      <td>Torgersen</td>\n",
       "      <td>39.5</td>\n",
       "      <td>17.4</td>\n",
       "      <td>186.0</td>\n",
       "      <td>3800.0</td>\n",
       "      <td>Female</td>\n",
       "    </tr>\n",
       "    <tr>\n",
       "      <th>2</th>\n",
       "      <td>Adelie</td>\n",
       "      <td>Torgersen</td>\n",
       "      <td>40.3</td>\n",
       "      <td>18.0</td>\n",
       "      <td>195.0</td>\n",
       "      <td>3250.0</td>\n",
       "      <td>Female</td>\n",
       "    </tr>\n",
       "    <tr>\n",
       "      <th>3</th>\n",
       "      <td>Adelie</td>\n",
       "      <td>Torgersen</td>\n",
       "      <td>NaN</td>\n",
       "      <td>NaN</td>\n",
       "      <td>NaN</td>\n",
       "      <td>NaN</td>\n",
       "      <td>NaN</td>\n",
       "    </tr>\n",
       "    <tr>\n",
       "      <th>4</th>\n",
       "      <td>Adelie</td>\n",
       "      <td>Torgersen</td>\n",
       "      <td>36.7</td>\n",
       "      <td>19.3</td>\n",
       "      <td>193.0</td>\n",
       "      <td>3450.0</td>\n",
       "      <td>Female</td>\n",
       "    </tr>\n",
       "  </tbody>\n",
       "</table>\n",
       "</div>"
      ],
      "text/plain": [
       "  species     island  bill_length_mm  bill_depth_mm  flipper_length_mm  \\\n",
       "0  Adelie  Torgersen            39.1           18.7              181.0   \n",
       "1  Adelie  Torgersen            39.5           17.4              186.0   \n",
       "2  Adelie  Torgersen            40.3           18.0              195.0   \n",
       "3  Adelie  Torgersen             NaN            NaN                NaN   \n",
       "4  Adelie  Torgersen            36.7           19.3              193.0   \n",
       "\n",
       "   body_mass_g     sex  \n",
       "0       3750.0    Male  \n",
       "1       3800.0  Female  \n",
       "2       3250.0  Female  \n",
       "3          NaN     NaN  \n",
       "4       3450.0  Female  "
      ]
     },
     "execution_count": 6,
     "metadata": {},
     "output_type": "execute_result"
    }
   ],
   "source": [
    "penguins.head()"
   ]
  },
  {
   "cell_type": "code",
   "execution_count": 7,
   "id": "c7114d70",
   "metadata": {},
   "outputs": [],
   "source": [
    "penguins = penguins.dropna()"
   ]
  },
  {
   "cell_type": "code",
   "execution_count": 8,
   "id": "46091e2d",
   "metadata": {},
   "outputs": [
    {
     "name": "stdout",
     "output_type": "stream",
     "text": [
      "(233, 7) (100, 7)\n"
     ]
    }
   ],
   "source": [
    "penguins_train, penguins_test = train_test_split(penguins, test_size=0.3, stratify=penguins['species'], random_state=42)\n",
    "print(penguins_train.shape, penguins_test.shape)"
   ]
  },
  {
   "cell_type": "code",
   "execution_count": 10,
   "id": "c097a146",
   "metadata": {},
   "outputs": [
    {
     "data": {
      "text/plain": [
       "DecisionTreeRegressor(max_depth=3)"
      ]
     },
     "execution_count": 10,
     "metadata": {},
     "output_type": "execute_result"
    }
   ],
   "source": [
    "features= ['body_mass_g']\n",
    "dt_regression = DecisionTreeRegressor(max_depth = 3)\n",
    "dt_regression.fit(penguins_train[features], penguins_train['flipper_length_mm'])"
   ]
  },
  {
   "cell_type": "code",
   "execution_count": 11,
   "id": "36eca414",
   "metadata": {},
   "outputs": [],
   "source": [
    "from sklearn import tree\n",
    "import graphviz\n",
    "\n",
    "def plot_tree_regression(model, features):\n",
    "    dot_data = tree.export_graphviz(model, out_file=None, \n",
    "                          feature_names=features,  \n",
    "                          filled=True, rounded=True,  \n",
    "                          special_characters=True)\n",
    "    graph = graphviz.Source(dot_data)\n",
    "    graph.render(\"decision_tree\")\n",
    "    return graph "
   ]
  },
  {
   "cell_type": "code",
   "execution_count": 12,
   "id": "c5a2987e",
   "metadata": {},
   "outputs": [
    {
     "data": {
      "image/svg+xml": [
       "<?xml version=\"1.0\" encoding=\"UTF-8\" standalone=\"no\"?>\n",
       "<!DOCTYPE svg PUBLIC \"-//W3C//DTD SVG 1.1//EN\"\n",
       " \"http://www.w3.org/Graphics/SVG/1.1/DTD/svg11.dtd\">\n",
       "<!-- Generated by graphviz version 2.50.0 (0)\n",
       " -->\n",
       "<!-- Title: Tree Pages: 1 -->\n",
       "<svg width=\"1392pt\" height=\"373pt\"\n",
       " viewBox=\"0.00 0.00 1392.00 373.00\" xmlns=\"http://www.w3.org/2000/svg\" xmlns:xlink=\"http://www.w3.org/1999/xlink\">\n",
       "<g id=\"graph0\" class=\"graph\" transform=\"scale(1 1) rotate(0) translate(4 369)\">\n",
       "<title>Tree</title>\n",
       "<polygon fill=\"white\" stroke=\"transparent\" points=\"-4,4 -4,-369 1388,-369 1388,4 -4,4\"/>\n",
       "<!-- 0 -->\n",
       "<g id=\"node1\" class=\"node\">\n",
       "<title>0</title>\n",
       "<path fill=\"#f4ccaf\" stroke=\"black\" d=\"M766,-365C766,-365 624,-365 624,-365 618,-365 612,-359 612,-353 612,-353 612,-309 612,-309 612,-303 618,-297 624,-297 624,-297 766,-297 766,-297 772,-297 778,-303 778,-309 778,-309 778,-353 778,-353 778,-359 772,-365 766,-365\"/>\n",
       "<text text-anchor=\"start\" x=\"624\" y=\"-349.8\" font-family=\"Helvetica,sans-Serif\" font-size=\"14.00\">body_mass_g ≤ 4687.5</text>\n",
       "<text text-anchor=\"start\" x=\"620\" y=\"-334.8\" font-family=\"Helvetica,sans-Serif\" font-size=\"14.00\">squared_error = 193.629</text>\n",
       "<text text-anchor=\"start\" x=\"650\" y=\"-319.8\" font-family=\"Helvetica,sans-Serif\" font-size=\"14.00\">samples = 233</text>\n",
       "<text text-anchor=\"start\" x=\"646.5\" y=\"-304.8\" font-family=\"Helvetica,sans-Serif\" font-size=\"14.00\">value = 201.391</text>\n",
       "</g>\n",
       "<!-- 1 -->\n",
       "<g id=\"node2\" class=\"node\">\n",
       "<title>1</title>\n",
       "<path fill=\"#f9e3d3\" stroke=\"black\" d=\"M586,-261C586,-261 452,-261 452,-261 446,-261 440,-255 440,-249 440,-249 440,-205 440,-205 440,-199 446,-193 452,-193 452,-193 586,-193 586,-193 592,-193 598,-199 598,-205 598,-205 598,-249 598,-249 598,-255 592,-261 586,-261\"/>\n",
       "<text text-anchor=\"start\" x=\"448\" y=\"-245.8\" font-family=\"Helvetica,sans-Serif\" font-size=\"14.00\">body_mass_g ≤ 3962.5</text>\n",
       "<text text-anchor=\"start\" x=\"448\" y=\"-230.8\" font-family=\"Helvetica,sans-Serif\" font-size=\"14.00\">squared_error = 82.539</text>\n",
       "<text text-anchor=\"start\" x=\"474\" y=\"-215.8\" font-family=\"Helvetica,sans-Serif\" font-size=\"14.00\">samples = 166</text>\n",
       "<text text-anchor=\"start\" x=\"470.5\" y=\"-200.8\" font-family=\"Helvetica,sans-Serif\" font-size=\"14.00\">value = 194.343</text>\n",
       "</g>\n",
       "<!-- 0&#45;&gt;1 -->\n",
       "<g id=\"edge1\" class=\"edge\">\n",
       "<title>0&#45;&gt;1</title>\n",
       "<path fill=\"none\" stroke=\"black\" d=\"M637.86,-296.88C621.02,-287.12 602.46,-276.37 585.1,-266.31\"/>\n",
       "<polygon fill=\"black\" stroke=\"black\" points=\"586.56,-263.11 576.16,-261.12 583.05,-269.17 586.56,-263.11\"/>\n",
       "<text text-anchor=\"middle\" x=\"582.59\" y=\"-281.58\" font-family=\"Helvetica,sans-Serif\" font-size=\"14.00\">True</text>\n",
       "</g>\n",
       "<!-- 8 -->\n",
       "<g id=\"node9\" class=\"node\">\n",
       "<title>8</title>\n",
       "<path fill=\"#e99254\" stroke=\"black\" d=\"M935,-261C935,-261 801,-261 801,-261 795,-261 789,-255 789,-249 789,-249 789,-205 789,-205 789,-199 795,-193 801,-193 801,-193 935,-193 935,-193 941,-193 947,-199 947,-205 947,-205 947,-249 947,-249 947,-255 941,-261 935,-261\"/>\n",
       "<text text-anchor=\"start\" x=\"797\" y=\"-245.8\" font-family=\"Helvetica,sans-Serif\" font-size=\"14.00\">body_mass_g ≤ 5450.0</text>\n",
       "<text text-anchor=\"start\" x=\"797\" y=\"-230.8\" font-family=\"Helvetica,sans-Serif\" font-size=\"14.00\">squared_error = 40.963</text>\n",
       "<text text-anchor=\"start\" x=\"827\" y=\"-215.8\" font-family=\"Helvetica,sans-Serif\" font-size=\"14.00\">samples = 67</text>\n",
       "<text text-anchor=\"start\" x=\"819.5\" y=\"-200.8\" font-family=\"Helvetica,sans-Serif\" font-size=\"14.00\">value = 218.851</text>\n",
       "</g>\n",
       "<!-- 0&#45;&gt;8 -->\n",
       "<g id=\"edge8\" class=\"edge\">\n",
       "<title>0&#45;&gt;8</title>\n",
       "<path fill=\"none\" stroke=\"black\" d=\"M751.17,-296.88C767.72,-287.12 785.97,-276.37 803.02,-266.31\"/>\n",
       "<polygon fill=\"black\" stroke=\"black\" points=\"804.98,-269.22 811.82,-261.12 801.43,-263.19 804.98,-269.22\"/>\n",
       "<text text-anchor=\"middle\" x=\"805.57\" y=\"-281.63\" font-family=\"Helvetica,sans-Serif\" font-size=\"14.00\">False</text>\n",
       "</g>\n",
       "<!-- 2 -->\n",
       "<g id=\"node3\" class=\"node\">\n",
       "<title>2</title>\n",
       "<path fill=\"#fcf0e8\" stroke=\"black\" d=\"M322,-157C322,-157 188,-157 188,-157 182,-157 176,-151 176,-145 176,-145 176,-101 176,-101 176,-95 182,-89 188,-89 188,-89 322,-89 322,-89 328,-89 334,-95 334,-101 334,-101 334,-145 334,-145 334,-151 328,-157 322,-157\"/>\n",
       "<text text-anchor=\"start\" x=\"184\" y=\"-141.8\" font-family=\"Helvetica,sans-Serif\" font-size=\"14.00\">body_mass_g ≤ 3262.5</text>\n",
       "<text text-anchor=\"start\" x=\"184\" y=\"-126.8\" font-family=\"Helvetica,sans-Serif\" font-size=\"14.00\">squared_error = 43.217</text>\n",
       "<text text-anchor=\"start\" x=\"211\" y=\"-111.8\" font-family=\"Helvetica,sans-Serif\" font-size=\"14.00\">samples = 111</text>\n",
       "<text text-anchor=\"start\" x=\"206.5\" y=\"-96.8\" font-family=\"Helvetica,sans-Serif\" font-size=\"14.00\">value = 190.423</text>\n",
       "</g>\n",
       "<!-- 1&#45;&gt;2 -->\n",
       "<g id=\"edge2\" class=\"edge\">\n",
       "<title>1&#45;&gt;2</title>\n",
       "<path fill=\"none\" stroke=\"black\" d=\"M439.79,-195.4C409.51,-183.7 374.79,-170.28 343.68,-158.26\"/>\n",
       "<polygon fill=\"black\" stroke=\"black\" points=\"344.74,-154.92 334.15,-154.58 342.22,-161.45 344.74,-154.92\"/>\n",
       "</g>\n",
       "<!-- 5 -->\n",
       "<g id=\"node6\" class=\"node\">\n",
       "<title>5</title>\n",
       "<path fill=\"#f4c9aa\" stroke=\"black\" d=\"M586,-157C586,-157 452,-157 452,-157 446,-157 440,-151 440,-145 440,-145 440,-101 440,-101 440,-95 446,-89 452,-89 452,-89 586,-89 586,-89 592,-89 598,-95 598,-101 598,-101 598,-145 598,-145 598,-151 592,-157 586,-157\"/>\n",
       "<text text-anchor=\"start\" x=\"448\" y=\"-141.8\" font-family=\"Helvetica,sans-Serif\" font-size=\"14.00\">body_mass_g ≤ 4275.0</text>\n",
       "<text text-anchor=\"start\" x=\"448\" y=\"-126.8\" font-family=\"Helvetica,sans-Serif\" font-size=\"14.00\">squared_error = 68.299</text>\n",
       "<text text-anchor=\"start\" x=\"478\" y=\"-111.8\" font-family=\"Helvetica,sans-Serif\" font-size=\"14.00\">samples = 55</text>\n",
       "<text text-anchor=\"start\" x=\"470.5\" y=\"-96.8\" font-family=\"Helvetica,sans-Serif\" font-size=\"14.00\">value = 202.255</text>\n",
       "</g>\n",
       "<!-- 1&#45;&gt;5 -->\n",
       "<g id=\"edge5\" class=\"edge\">\n",
       "<title>1&#45;&gt;5</title>\n",
       "<path fill=\"none\" stroke=\"black\" d=\"M519,-192.88C519,-184.78 519,-175.98 519,-167.47\"/>\n",
       "<polygon fill=\"black\" stroke=\"black\" points=\"522.5,-167.3 519,-157.3 515.5,-167.3 522.5,-167.3\"/>\n",
       "</g>\n",
       "<!-- 3 -->\n",
       "<g id=\"node4\" class=\"node\">\n",
       "<title>3</title>\n",
       "<path fill=\"#ffffff\" stroke=\"black\" d=\"M146,-53C146,-53 12,-53 12,-53 6,-53 0,-47 0,-41 0,-41 0,-12 0,-12 0,-6 6,0 12,0 12,0 146,0 146,0 152,0 158,-6 158,-12 158,-12 158,-41 158,-41 158,-47 152,-53 146,-53\"/>\n",
       "<text text-anchor=\"start\" x=\"8\" y=\"-37.8\" font-family=\"Helvetica,sans-Serif\" font-size=\"14.00\">squared_error = 27.114</text>\n",
       "<text text-anchor=\"start\" x=\"38\" y=\"-22.8\" font-family=\"Helvetica,sans-Serif\" font-size=\"14.00\">samples = 17</text>\n",
       "<text text-anchor=\"start\" x=\"30.5\" y=\"-7.8\" font-family=\"Helvetica,sans-Serif\" font-size=\"14.00\">value = 185.941</text>\n",
       "</g>\n",
       "<!-- 2&#45;&gt;3 -->\n",
       "<g id=\"edge3\" class=\"edge\">\n",
       "<title>2&#45;&gt;3</title>\n",
       "<path fill=\"none\" stroke=\"black\" d=\"M193.44,-88.95C174.62,-78.84 154.01,-67.78 135.54,-57.86\"/>\n",
       "<polygon fill=\"black\" stroke=\"black\" points=\"137.12,-54.73 126.65,-53.09 133.81,-60.9 137.12,-54.73\"/>\n",
       "</g>\n",
       "<!-- 4 -->\n",
       "<g id=\"node5\" class=\"node\">\n",
       "<title>4</title>\n",
       "<path fill=\"#fbede3\" stroke=\"black\" d=\"M322,-53C322,-53 188,-53 188,-53 182,-53 176,-47 176,-41 176,-41 176,-12 176,-12 176,-6 182,0 188,0 188,0 322,0 322,0 328,0 334,-6 334,-12 334,-12 334,-41 334,-41 334,-47 328,-53 322,-53\"/>\n",
       "<text text-anchor=\"start\" x=\"184\" y=\"-37.8\" font-family=\"Helvetica,sans-Serif\" font-size=\"14.00\">squared_error = 41.839</text>\n",
       "<text text-anchor=\"start\" x=\"214\" y=\"-22.8\" font-family=\"Helvetica,sans-Serif\" font-size=\"14.00\">samples = 94</text>\n",
       "<text text-anchor=\"start\" x=\"206.5\" y=\"-7.8\" font-family=\"Helvetica,sans-Serif\" font-size=\"14.00\">value = 191.234</text>\n",
       "</g>\n",
       "<!-- 2&#45;&gt;4 -->\n",
       "<g id=\"edge4\" class=\"edge\">\n",
       "<title>2&#45;&gt;4</title>\n",
       "<path fill=\"none\" stroke=\"black\" d=\"M255,-88.95C255,-80.72 255,-71.85 255,-63.48\"/>\n",
       "<polygon fill=\"black\" stroke=\"black\" points=\"258.5,-63.24 255,-53.24 251.5,-63.24 258.5,-63.24\"/>\n",
       "</g>\n",
       "<!-- 6 -->\n",
       "<g id=\"node7\" class=\"node\">\n",
       "<title>6</title>\n",
       "<path fill=\"#f5d1b6\" stroke=\"black\" d=\"M498,-53C498,-53 364,-53 364,-53 358,-53 352,-47 352,-41 352,-41 352,-12 352,-12 352,-6 358,0 364,0 364,0 498,0 498,0 504,0 510,-6 510,-12 510,-12 510,-41 510,-41 510,-47 504,-53 498,-53\"/>\n",
       "<text text-anchor=\"start\" x=\"360\" y=\"-37.8\" font-family=\"Helvetica,sans-Serif\" font-size=\"14.00\">squared_error = 39.798</text>\n",
       "<text text-anchor=\"start\" x=\"390\" y=\"-22.8\" font-family=\"Helvetica,sans-Serif\" font-size=\"14.00\">samples = 25</text>\n",
       "<text text-anchor=\"start\" x=\"386\" y=\"-7.8\" font-family=\"Helvetica,sans-Serif\" font-size=\"14.00\">value = 199.96</text>\n",
       "</g>\n",
       "<!-- 5&#45;&gt;6 -->\n",
       "<g id=\"edge6\" class=\"edge\">\n",
       "<title>5&#45;&gt;6</title>\n",
       "<path fill=\"none\" stroke=\"black\" d=\"M488.22,-88.95C479.7,-79.8 470.46,-69.87 461.93,-60.71\"/>\n",
       "<polygon fill=\"black\" stroke=\"black\" points=\"464.34,-58.17 454.97,-53.24 459.22,-62.94 464.34,-58.17\"/>\n",
       "</g>\n",
       "<!-- 7 -->\n",
       "<g id=\"node8\" class=\"node\">\n",
       "<title>7</title>\n",
       "<path fill=\"#f3c3a0\" stroke=\"black\" d=\"M674,-53C674,-53 540,-53 540,-53 534,-53 528,-47 528,-41 528,-41 528,-12 528,-12 528,-6 534,0 540,0 540,0 674,0 674,0 680,0 686,-6 686,-12 686,-12 686,-41 686,-41 686,-47 680,-53 674,-53\"/>\n",
       "<text text-anchor=\"start\" x=\"536\" y=\"-37.8\" font-family=\"Helvetica,sans-Serif\" font-size=\"14.00\">squared_error = 84.006</text>\n",
       "<text text-anchor=\"start\" x=\"566\" y=\"-22.8\" font-family=\"Helvetica,sans-Serif\" font-size=\"14.00\">samples = 30</text>\n",
       "<text text-anchor=\"start\" x=\"558.5\" y=\"-7.8\" font-family=\"Helvetica,sans-Serif\" font-size=\"14.00\">value = 204.167</text>\n",
       "</g>\n",
       "<!-- 5&#45;&gt;7 -->\n",
       "<g id=\"edge7\" class=\"edge\">\n",
       "<title>5&#45;&gt;7</title>\n",
       "<path fill=\"none\" stroke=\"black\" d=\"M549.78,-88.95C558.3,-79.8 567.54,-69.87 576.07,-60.71\"/>\n",
       "<polygon fill=\"black\" stroke=\"black\" points=\"578.78,-62.94 583.03,-53.24 573.66,-58.17 578.78,-62.94\"/>\n",
       "</g>\n",
       "<!-- 9 -->\n",
       "<g id=\"node10\" class=\"node\">\n",
       "<title>9</title>\n",
       "<path fill=\"#ea9b62\" stroke=\"black\" d=\"M935,-157C935,-157 801,-157 801,-157 795,-157 789,-151 789,-145 789,-145 789,-101 789,-101 789,-95 795,-89 801,-89 801,-89 935,-89 935,-89 941,-89 947,-95 947,-101 947,-101 947,-145 947,-145 947,-151 941,-157 935,-157\"/>\n",
       "<text text-anchor=\"start\" x=\"797\" y=\"-141.8\" font-family=\"Helvetica,sans-Serif\" font-size=\"14.00\">body_mass_g ≤ 4875.0</text>\n",
       "<text text-anchor=\"start\" x=\"797\" y=\"-126.8\" font-family=\"Helvetica,sans-Serif\" font-size=\"14.00\">squared_error = 24.452</text>\n",
       "<text text-anchor=\"start\" x=\"827\" y=\"-111.8\" font-family=\"Helvetica,sans-Serif\" font-size=\"14.00\">samples = 42</text>\n",
       "<text text-anchor=\"start\" x=\"819.5\" y=\"-96.8\" font-family=\"Helvetica,sans-Serif\" font-size=\"14.00\">value = 216.024</text>\n",
       "</g>\n",
       "<!-- 8&#45;&gt;9 -->\n",
       "<g id=\"edge9\" class=\"edge\">\n",
       "<title>8&#45;&gt;9</title>\n",
       "<path fill=\"none\" stroke=\"black\" d=\"M868,-192.88C868,-184.78 868,-175.98 868,-167.47\"/>\n",
       "<polygon fill=\"black\" stroke=\"black\" points=\"871.5,-167.3 868,-157.3 864.5,-167.3 871.5,-167.3\"/>\n",
       "</g>\n",
       "<!-- 12 -->\n",
       "<g id=\"node13\" class=\"node\">\n",
       "<title>12</title>\n",
       "<path fill=\"#e5823b\" stroke=\"black\" d=\"M1196,-157C1196,-157 1062,-157 1062,-157 1056,-157 1050,-151 1050,-145 1050,-145 1050,-101 1050,-101 1050,-95 1056,-89 1062,-89 1062,-89 1196,-89 1196,-89 1202,-89 1208,-95 1208,-101 1208,-101 1208,-145 1208,-145 1208,-151 1202,-157 1196,-157\"/>\n",
       "<text text-anchor=\"start\" x=\"1058\" y=\"-141.8\" font-family=\"Helvetica,sans-Serif\" font-size=\"14.00\">body_mass_g ≤ 5575.0</text>\n",
       "<text text-anchor=\"start\" x=\"1061.5\" y=\"-126.8\" font-family=\"Helvetica,sans-Serif\" font-size=\"14.00\">squared_error = 32.72</text>\n",
       "<text text-anchor=\"start\" x=\"1088\" y=\"-111.8\" font-family=\"Helvetica,sans-Serif\" font-size=\"14.00\">samples = 25</text>\n",
       "<text text-anchor=\"start\" x=\"1088\" y=\"-96.8\" font-family=\"Helvetica,sans-Serif\" font-size=\"14.00\">value = 223.6</text>\n",
       "</g>\n",
       "<!-- 8&#45;&gt;12 -->\n",
       "<g id=\"edge12\" class=\"edge\">\n",
       "<title>8&#45;&gt;12</title>\n",
       "<path fill=\"none\" stroke=\"black\" d=\"M947.02,-195.12C976.4,-183.64 1009.92,-170.54 1040.12,-158.73\"/>\n",
       "<polygon fill=\"black\" stroke=\"black\" points=\"1041.76,-161.85 1049.8,-154.95 1039.21,-155.33 1041.76,-161.85\"/>\n",
       "</g>\n",
       "<!-- 10 -->\n",
       "<g id=\"node11\" class=\"node\">\n",
       "<title>10</title>\n",
       "<path fill=\"#eda775\" stroke=\"black\" d=\"M850,-53C850,-53 716,-53 716,-53 710,-53 704,-47 704,-41 704,-41 704,-12 704,-12 704,-6 710,0 716,0 716,0 850,0 850,0 856,0 862,-6 862,-12 862,-12 862,-41 862,-41 862,-47 856,-53 850,-53\"/>\n",
       "<text text-anchor=\"start\" x=\"712\" y=\"-37.8\" font-family=\"Helvetica,sans-Serif\" font-size=\"14.00\">squared_error = 15.716</text>\n",
       "<text text-anchor=\"start\" x=\"742\" y=\"-22.8\" font-family=\"Helvetica,sans-Serif\" font-size=\"14.00\">samples = 15</text>\n",
       "<text text-anchor=\"start\" x=\"734.5\" y=\"-7.8\" font-family=\"Helvetica,sans-Serif\" font-size=\"14.00\">value = 212.467</text>\n",
       "</g>\n",
       "<!-- 9&#45;&gt;10 -->\n",
       "<g id=\"edge10\" class=\"edge\">\n",
       "<title>9&#45;&gt;10</title>\n",
       "<path fill=\"none\" stroke=\"black\" d=\"M838.27,-88.95C830.04,-79.8 821.11,-69.87 812.87,-60.71\"/>\n",
       "<polygon fill=\"black\" stroke=\"black\" points=\"815.44,-58.33 806.15,-53.24 810.23,-63.01 815.44,-58.33\"/>\n",
       "</g>\n",
       "<!-- 11 -->\n",
       "<g id=\"node12\" class=\"node\">\n",
       "<title>11</title>\n",
       "<path fill=\"#e99558\" stroke=\"black\" d=\"M1019.5,-53C1019.5,-53 892.5,-53 892.5,-53 886.5,-53 880.5,-47 880.5,-41 880.5,-41 880.5,-12 880.5,-12 880.5,-6 886.5,0 892.5,0 892.5,0 1019.5,0 1019.5,0 1025.5,0 1031.5,-6 1031.5,-12 1031.5,-12 1031.5,-41 1031.5,-41 1031.5,-47 1025.5,-53 1019.5,-53\"/>\n",
       "<text text-anchor=\"start\" x=\"888.5\" y=\"-37.8\" font-family=\"Helvetica,sans-Serif\" font-size=\"14.00\">squared_error = 18.37</text>\n",
       "<text text-anchor=\"start\" x=\"915\" y=\"-22.8\" font-family=\"Helvetica,sans-Serif\" font-size=\"14.00\">samples = 27</text>\n",
       "<text text-anchor=\"start\" x=\"915\" y=\"-7.8\" font-family=\"Helvetica,sans-Serif\" font-size=\"14.00\">value = 218.0</text>\n",
       "</g>\n",
       "<!-- 9&#45;&gt;11 -->\n",
       "<g id=\"edge11\" class=\"edge\">\n",
       "<title>9&#45;&gt;11</title>\n",
       "<path fill=\"none\" stroke=\"black\" d=\"M898.78,-88.95C907.3,-79.8 916.54,-69.87 925.07,-60.71\"/>\n",
       "<polygon fill=\"black\" stroke=\"black\" points=\"927.78,-62.94 932.03,-53.24 922.66,-58.17 927.78,-62.94\"/>\n",
       "</g>\n",
       "<!-- 13 -->\n",
       "<g id=\"node14\" class=\"node\">\n",
       "<title>13</title>\n",
       "<path fill=\"#e68640\" stroke=\"black\" d=\"M1196,-53C1196,-53 1062,-53 1062,-53 1056,-53 1050,-47 1050,-41 1050,-41 1050,-12 1050,-12 1050,-6 1056,0 1062,0 1062,0 1196,0 1196,0 1202,0 1208,-6 1208,-12 1208,-12 1208,-41 1208,-41 1208,-47 1202,-53 1196,-53\"/>\n",
       "<text text-anchor=\"start\" x=\"1058\" y=\"-37.8\" font-family=\"Helvetica,sans-Serif\" font-size=\"14.00\">squared_error = 37.102</text>\n",
       "<text text-anchor=\"start\" x=\"1091.5\" y=\"-22.8\" font-family=\"Helvetica,sans-Serif\" font-size=\"14.00\">samples = 7</text>\n",
       "<text text-anchor=\"start\" x=\"1080.5\" y=\"-7.8\" font-family=\"Helvetica,sans-Serif\" font-size=\"14.00\">value = 222.571</text>\n",
       "</g>\n",
       "<!-- 12&#45;&gt;13 -->\n",
       "<g id=\"edge13\" class=\"edge\">\n",
       "<title>12&#45;&gt;13</title>\n",
       "<path fill=\"none\" stroke=\"black\" d=\"M1129,-88.95C1129,-80.72 1129,-71.85 1129,-63.48\"/>\n",
       "<polygon fill=\"black\" stroke=\"black\" points=\"1132.5,-63.24 1129,-53.24 1125.5,-63.24 1132.5,-63.24\"/>\n",
       "</g>\n",
       "<!-- 14 -->\n",
       "<g id=\"node15\" class=\"node\">\n",
       "<title>14</title>\n",
       "<path fill=\"#e58139\" stroke=\"black\" d=\"M1372,-53C1372,-53 1238,-53 1238,-53 1232,-53 1226,-47 1226,-41 1226,-41 1226,-12 1226,-12 1226,-6 1232,0 1238,0 1238,0 1372,0 1372,0 1378,0 1384,-6 1384,-12 1384,-12 1384,-41 1384,-41 1384,-47 1378,-53 1372,-53\"/>\n",
       "<text text-anchor=\"start\" x=\"1234\" y=\"-37.8\" font-family=\"Helvetica,sans-Serif\" font-size=\"14.00\">squared_error = 30.444</text>\n",
       "<text text-anchor=\"start\" x=\"1264\" y=\"-22.8\" font-family=\"Helvetica,sans-Serif\" font-size=\"14.00\">samples = 18</text>\n",
       "<text text-anchor=\"start\" x=\"1264\" y=\"-7.8\" font-family=\"Helvetica,sans-Serif\" font-size=\"14.00\">value = 224.0</text>\n",
       "</g>\n",
       "<!-- 12&#45;&gt;14 -->\n",
       "<g id=\"edge14\" class=\"edge\">\n",
       "<title>12&#45;&gt;14</title>\n",
       "<path fill=\"none\" stroke=\"black\" d=\"M1190.56,-88.95C1209.38,-78.84 1229.99,-67.78 1248.46,-57.86\"/>\n",
       "<polygon fill=\"black\" stroke=\"black\" points=\"1250.19,-60.9 1257.35,-53.09 1246.88,-54.73 1250.19,-60.9\"/>\n",
       "</g>\n",
       "</g>\n",
       "</svg>\n"
      ],
      "text/plain": [
       "<graphviz.sources.Source at 0x26c7425a220>"
      ]
     },
     "execution_count": 12,
     "metadata": {},
     "output_type": "execute_result"
    }
   ],
   "source": [
    "plot_tree_regression(dt_regression, features)"
   ]
  },
  {
   "cell_type": "code",
   "execution_count": 13,
   "id": "6005535f",
   "metadata": {},
   "outputs": [],
   "source": [
    "def calculate_rmse(predictions, actuals):\n",
    "    if(len(predictions) != len(actuals)):\n",
    "        raise Exception(\"The amount of predictions did not equal the amount of actuals\")\n",
    "    \n",
    "    return (((predictions - actuals) ** 2).sum() / len(actuals)) ** (1/2)"
   ]
  },
  {
   "cell_type": "code",
   "execution_count": 14,
   "id": "150c490d",
   "metadata": {},
   "outputs": [],
   "source": [
    "predictionsOnTrainset = dt_regression.predict(penguins_train[features])\n",
    "predictionsOnTestset = dt_regression.predict(penguins_test[features])"
   ]
  },
  {
   "cell_type": "code",
   "execution_count": 15,
   "id": "7079ccba",
   "metadata": {},
   "outputs": [],
   "source": [
    "rmseTrain = calculate_rmse(predictionsOnTrainset, penguins_train.flipper_length_mm)\n",
    "rmseTest = calculate_rmse(predictionsOnTestset, penguins_test.flipper_length_mm)"
   ]
  },
  {
   "cell_type": "code",
   "execution_count": 16,
   "id": "aaedbe31",
   "metadata": {},
   "outputs": [
    {
     "name": "stdout",
     "output_type": "stream",
     "text": [
      "RMSE on training set 6.367961156932434\n",
      "RMSE on test set 6.6100110079037675\n"
     ]
    }
   ],
   "source": [
    "print(\"RMSE on training set \" + str(rmseTrain))\n",
    "print(\"RMSE on test set \" + str(rmseTest))"
   ]
  },
  {
   "cell_type": "markdown",
   "id": "64de2ff1",
   "metadata": {},
   "source": [
    "The RMSE is different, because we split 30% into one and 70% into the other. This means that one has more data than the other and is therefore going to be different."
   ]
  },
  {
   "cell_type": "code",
   "execution_count": null,
   "id": "b939a9dc",
   "metadata": {},
   "outputs": [],
   "source": []
  }
 ],
 "metadata": {
  "kernelspec": {
   "display_name": "Python 3 (ipykernel)",
   "language": "python",
   "name": "python3"
  },
  "language_info": {
   "codemirror_mode": {
    "name": "ipython",
    "version": 3
   },
   "file_extension": ".py",
   "mimetype": "text/x-python",
   "name": "python",
   "nbconvert_exporter": "python",
   "pygments_lexer": "ipython3",
   "version": "3.9.13"
  }
 },
 "nbformat": 4,
 "nbformat_minor": 5
}
