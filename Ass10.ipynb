{
 "cells": [
  {
   "cell_type": "code",
   "execution_count": 1,
   "id": "e02ff257",
   "metadata": {},
   "outputs": [],
   "source": [
    "import pandas as pd"
   ]
  },
  {
   "cell_type": "code",
   "execution_count": 2,
   "id": "da1bec1c",
   "metadata": {},
   "outputs": [],
   "source": [
    "import numpy as np"
   ]
  },
  {
   "cell_type": "code",
   "execution_count": 11,
   "id": "1d3d97d2",
   "metadata": {},
   "outputs": [],
   "source": [
    "bb = pd.read_csv('breaking-bad.csv', sep=',')"
   ]
  },
  {
   "cell_type": "code",
   "execution_count": 12,
   "id": "11f7fb08",
   "metadata": {},
   "outputs": [
    {
     "data": {
      "text/html": [
       "<div>\n",
       "<style scoped>\n",
       "    .dataframe tbody tr th:only-of-type {\n",
       "        vertical-align: middle;\n",
       "    }\n",
       "\n",
       "    .dataframe tbody tr th {\n",
       "        vertical-align: top;\n",
       "    }\n",
       "\n",
       "    .dataframe thead th {\n",
       "        text-align: right;\n",
       "    }\n",
       "</style>\n",
       "<table border=\"1\" class=\"dataframe\">\n",
       "  <thead>\n",
       "    <tr style=\"text-align: right;\">\n",
       "      <th></th>\n",
       "      <th>season</th>\n",
       "      <th>episode</th>\n",
       "      <th>title</th>\n",
       "      <th>year</th>\n",
       "      <th>votes</th>\n",
       "      <th>rating</th>\n",
       "      <th>us-viewers</th>\n",
       "    </tr>\n",
       "  </thead>\n",
       "  <tbody>\n",
       "    <tr>\n",
       "      <th>0</th>\n",
       "      <td>1</td>\n",
       "      <td>1</td>\n",
       "      <td>Pilot</td>\n",
       "      <td>2008</td>\n",
       "      <td>23970</td>\n",
       "      <td>9.0</td>\n",
       "      <td>1.41</td>\n",
       "    </tr>\n",
       "    <tr>\n",
       "      <th>1</th>\n",
       "      <td>1</td>\n",
       "      <td>2</td>\n",
       "      <td>Cat's in the Bag...</td>\n",
       "      <td>2008</td>\n",
       "      <td>17267</td>\n",
       "      <td>8.7</td>\n",
       "      <td>1.49</td>\n",
       "    </tr>\n",
       "    <tr>\n",
       "      <th>2</th>\n",
       "      <td>1</td>\n",
       "      <td>3</td>\n",
       "      <td>...And the Bag's in the River</td>\n",
       "      <td>2008</td>\n",
       "      <td>16719</td>\n",
       "      <td>8.8</td>\n",
       "      <td>1.08</td>\n",
       "    </tr>\n",
       "    <tr>\n",
       "      <th>3</th>\n",
       "      <td>1</td>\n",
       "      <td>4</td>\n",
       "      <td>Cancer Man</td>\n",
       "      <td>2008</td>\n",
       "      <td>16211</td>\n",
       "      <td>8.3</td>\n",
       "      <td>1.09</td>\n",
       "    </tr>\n",
       "    <tr>\n",
       "      <th>4</th>\n",
       "      <td>1</td>\n",
       "      <td>5</td>\n",
       "      <td>Gray Matter</td>\n",
       "      <td>2008</td>\n",
       "      <td>15896</td>\n",
       "      <td>8.4</td>\n",
       "      <td>0.97</td>\n",
       "    </tr>\n",
       "  </tbody>\n",
       "</table>\n",
       "</div>"
      ],
      "text/plain": [
       "   season  episode                          title  year  votes  rating  \\\n",
       "0       1        1                          Pilot  2008  23970     9.0   \n",
       "1       1        2            Cat's in the Bag...  2008  17267     8.7   \n",
       "2       1        3  ...And the Bag's in the River  2008  16719     8.8   \n",
       "3       1        4                     Cancer Man  2008  16211     8.3   \n",
       "4       1        5                    Gray Matter  2008  15896     8.4   \n",
       "\n",
       "   us-viewers  \n",
       "0        1.41  \n",
       "1        1.49  \n",
       "2        1.08  \n",
       "3        1.09  \n",
       "4        0.97  "
      ]
     },
     "execution_count": 12,
     "metadata": {},
     "output_type": "execute_result"
    }
   ],
   "source": [
    "bb.head()"
   ]
  },
  {
   "cell_type": "code",
   "execution_count": 13,
   "id": "f8bfd74c",
   "metadata": {},
   "outputs": [
    {
     "data": {
      "text/html": [
       "<div>\n",
       "<style scoped>\n",
       "    .dataframe tbody tr th:only-of-type {\n",
       "        vertical-align: middle;\n",
       "    }\n",
       "\n",
       "    .dataframe tbody tr th {\n",
       "        vertical-align: top;\n",
       "    }\n",
       "\n",
       "    .dataframe thead th {\n",
       "        text-align: right;\n",
       "    }\n",
       "</style>\n",
       "<table border=\"1\" class=\"dataframe\">\n",
       "  <thead>\n",
       "    <tr style=\"text-align: right;\">\n",
       "      <th></th>\n",
       "      <th>season</th>\n",
       "      <th>episode</th>\n",
       "      <th>year</th>\n",
       "      <th>votes</th>\n",
       "      <th>rating</th>\n",
       "      <th>us-viewers</th>\n",
       "    </tr>\n",
       "  </thead>\n",
       "  <tbody>\n",
       "    <tr>\n",
       "      <th>season</th>\n",
       "      <td>1.000000</td>\n",
       "      <td>0.263719</td>\n",
       "      <td>0.981788</td>\n",
       "      <td>0.304889</td>\n",
       "      <td>0.440997</td>\n",
       "      <td>0.617048</td>\n",
       "    </tr>\n",
       "    <tr>\n",
       "      <th>episode</th>\n",
       "      <td>0.263719</td>\n",
       "      <td>1.000000</td>\n",
       "      <td>0.343901</td>\n",
       "      <td>0.455348</td>\n",
       "      <td>0.560681</td>\n",
       "      <td>0.520130</td>\n",
       "    </tr>\n",
       "    <tr>\n",
       "      <th>year</th>\n",
       "      <td>0.981788</td>\n",
       "      <td>0.343901</td>\n",
       "      <td>1.000000</td>\n",
       "      <td>0.389033</td>\n",
       "      <td>0.483732</td>\n",
       "      <td>0.736403</td>\n",
       "    </tr>\n",
       "    <tr>\n",
       "      <th>votes</th>\n",
       "      <td>0.304889</td>\n",
       "      <td>0.455348</td>\n",
       "      <td>0.389033</td>\n",
       "      <td>1.000000</td>\n",
       "      <td>0.499516</td>\n",
       "      <td>0.688750</td>\n",
       "    </tr>\n",
       "    <tr>\n",
       "      <th>rating</th>\n",
       "      <td>0.440997</td>\n",
       "      <td>0.560681</td>\n",
       "      <td>0.483732</td>\n",
       "      <td>0.499516</td>\n",
       "      <td>1.000000</td>\n",
       "      <td>0.539448</td>\n",
       "    </tr>\n",
       "    <tr>\n",
       "      <th>us-viewers</th>\n",
       "      <td>0.617048</td>\n",
       "      <td>0.520130</td>\n",
       "      <td>0.736403</td>\n",
       "      <td>0.688750</td>\n",
       "      <td>0.539448</td>\n",
       "      <td>1.000000</td>\n",
       "    </tr>\n",
       "  </tbody>\n",
       "</table>\n",
       "</div>"
      ],
      "text/plain": [
       "              season   episode      year     votes    rating  us-viewers\n",
       "season      1.000000  0.263719  0.981788  0.304889  0.440997    0.617048\n",
       "episode     0.263719  1.000000  0.343901  0.455348  0.560681    0.520130\n",
       "year        0.981788  0.343901  1.000000  0.389033  0.483732    0.736403\n",
       "votes       0.304889  0.455348  0.389033  1.000000  0.499516    0.688750\n",
       "rating      0.440997  0.560681  0.483732  0.499516  1.000000    0.539448\n",
       "us-viewers  0.617048  0.520130  0.736403  0.688750  0.539448    1.000000"
      ]
     },
     "execution_count": 13,
     "metadata": {},
     "output_type": "execute_result"
    }
   ],
   "source": [
    "bb.corr()"
   ]
  },
  {
   "cell_type": "code",
   "execution_count": 15,
   "id": "22b2a91c",
   "metadata": {},
   "outputs": [
    {
     "data": {
      "text/plain": [
       "<AxesSubplot:xlabel='season', ylabel='rating'>"
      ]
     },
     "execution_count": 15,
     "metadata": {},
     "output_type": "execute_result"
    },
    {
     "data": {
      "image/png": "[encoded data removed]",
      "text/plain": [
       "<Figure size 640x480 with 1 Axes>"
      ]
     },
     "metadata": {},
     "output_type": "display_data"
    }
   ],
   "source": [
    "disney.plot(kind='scatter', x='season', y='rating')"
   ]
  },
  {
   "cell_type": "markdown",
   "id": "9277afde",
   "metadata": {},
   "source": [
    "I did expect this result, because I watched this series and I have to agree that in season 5 were the best episodes. It was the best season."
   ]
  }
 ],
 "metadata": {
  "kernelspec": {
   "display_name": "Python 3 (ipykernel)",
   "language": "python",
   "name": "python3"
  },
  "language_info": {
   "codemirror_mode": {
    "name": "ipython",
    "version": 3
   },
   "file_extension": ".py",
   "mimetype": "text/x-python",
   "name": "python",
   "nbconvert_exporter": "python",
   "pygments_lexer": "ipython3",
   "version": "3.9.13"
  }
 },
 "nbformat": 4,
 "nbformat_minor": 5
}
